{
 "cells": [
  {
   "cell_type": "markdown",
   "id": "7a165949",
   "metadata": {
    "execution": {
     "iopub.execute_input": "2022-09-17T08:56:24.180419Z",
     "iopub.status.busy": "2022-09-17T08:56:24.179832Z",
     "iopub.status.idle": "2022-09-17T08:56:24.214731Z",
     "shell.execute_reply": "2022-09-17T08:56:24.212199Z",
     "shell.execute_reply.started": "2022-09-17T08:56:24.180306Z"
    },
    "papermill": {
     "duration": 0.016694,
     "end_time": "2022-09-17T10:04:40.860200",
     "exception": false,
     "start_time": "2022-09-17T10:04:40.843506",
     "status": "completed"
    },
    "tags": []
   },
   "source": [
    "**In this notebook, i'm going to explain L2 regularization and show an example of CNN model being regularized** "
   ]
  },
  {
   "cell_type": "code",
   "execution_count": 1,
   "id": "7f13d572",
   "metadata": {
    "execution": {
     "iopub.execute_input": "2022-09-17T10:04:40.922776Z",
     "iopub.status.busy": "2022-09-17T10:04:40.915321Z",
     "iopub.status.idle": "2022-09-17T10:04:48.372348Z",
     "shell.execute_reply": "2022-09-17T10:04:48.371064Z"
    },
    "papermill": {
     "duration": 7.472957,
     "end_time": "2022-09-17T10:04:48.375602",
     "exception": false,
     "start_time": "2022-09-17T10:04:40.902645",
     "status": "completed"
    },
    "tags": []
   },
   "outputs": [],
   "source": [
    "        # This Python 3 environment comes with many helpful analytics libraries installed\n",
    "# It is defined by the kaggle/python Docker image: https://github.com/kaggle/docker-python\n",
    "# For example, here's several helpful packages to load\n",
    "\n",
    "import numpy as np # linear algebra\n",
    "import pandas as pd # data processing, CSV file I/O (e.g. pd.read_csv)\n",
    "from tensorflow import keras as ks\n",
    "from keras.preprocessing.image import ImageDataGenerator\n",
    "from sklearn.model_selection import train_test_split\n",
    "from keras.regularizers import l2\n",
    "import matplotlib.pyplot as plt\n",
    "\n",
    "\n",
    "# Input data files are available in the read-only \"../input/\" directory\n",
    "# For example, running this (by clicking run or pressing Shift+Enter) will list all files under the input directory\n",
    "#import os\n",
    "#for dirname, _, filenames in os.walk('/kaggle/input'):\n",
    " #   for filename in filenames:\n",
    "  #      print(os.path.join(dirname, filename))\n",
    "        \n",
    "# You can write up to 20GB to the current directory (/kaggle/working/) that gets preserved as output when you create a version using \"Save & Run All\" \n",
    "# You can also write temporary files to /kaggle/temp/, but they won't be saved outside of the current session"
   ]
  },
  {
   "cell_type": "markdown",
   "id": "ac336974",
   "metadata": {
    "papermill": {
     "duration": 0.006447,
     "end_time": "2022-09-17T10:04:48.391467",
     "exception": false,
     "start_time": "2022-09-17T10:04:48.385020",
     "status": "completed"
    },
    "tags": []
   },
   "source": [
    "# L2 Regularization (for a CNN example)\n",
    "##### also called simply “weight decay\"\n"
   ]
  },
  {
   "cell_type": "markdown",
   "id": "86c5379d",
   "metadata": {
    "papermill": {
     "duration": 0.006319,
     "end_time": "2022-09-17T10:04:48.404226",
     "exception": false,
     "start_time": "2022-09-17T10:04:48.397907",
     "status": "completed"
    },
    "tags": []
   },
   "source": [
    "**If you suspect your neural network is overfitting your data, \n",
    "that is, you have a high variance problem, one of the first things you should try is probably regularization.**  \n",
    "\n",
    "In L2, we have:\n",
    "  \n",
    "![L2](https://i.ibb.co/b3Dp6mL/L2.png) it comes **to adding a cost** to the loss function for large weights\n",
    "\n",
    "Here, **lambda** is the regularization parameter. It is the hyperparameter whose value is optimized for better results. L2 regularization is also known as weight decay as it forces the weights to decay towards zero (but not exactly zero).  \n",
    "**By default, no regularizer is used in any layers.**\n"
   ]
  },
  {
   "cell_type": "markdown",
   "id": "6a7d64f8",
   "metadata": {
    "papermill": {
     "duration": 0.006358,
     "end_time": "2022-09-17T10:04:48.417442",
     "exception": false,
     "start_time": "2022-09-17T10:04:48.411084",
     "status": "completed"
    },
    "tags": []
   },
   "source": [
    "A weight regularizer can be added to each layer when the layer is defined in a Keras model.  \n",
    "**A weight regularizer can be added to each layer when the layer is defined in a Keras model.**\n",
    "\n",
    "This is achieved by setting the kernel_regularizer argument on each layer. A separate regularizer can also be used for the bias via the bias_regularizer argument, although this is less often used.\n",
    "\n",
    "Let’s look at some examples."
   ]
  },
  {
   "cell_type": "markdown",
   "id": "8364c02e",
   "metadata": {
    "papermill": {
     "duration": 0.006532,
     "end_time": "2022-09-17T10:04:48.430440",
     "exception": false,
     "start_time": "2022-09-17T10:04:48.423908",
     "status": "completed"
    },
    "tags": []
   },
   "source": [
    "#### Weight Regularization for Dense Layers"
   ]
  },
  {
   "cell_type": "code",
   "execution_count": 2,
   "id": "13ea078b",
   "metadata": {
    "execution": {
     "iopub.execute_input": "2022-09-17T10:04:48.445731Z",
     "iopub.status.busy": "2022-09-17T10:04:48.444363Z",
     "iopub.status.idle": "2022-09-17T10:04:48.450615Z",
     "shell.execute_reply": "2022-09-17T10:04:48.449443Z"
    },
    "papermill": {
     "duration": 0.01658,
     "end_time": "2022-09-17T10:04:48.453271",
     "exception": false,
     "start_time": "2022-09-17T10:04:48.436691",
     "status": "completed"
    },
    "tags": []
   },
   "outputs": [],
   "source": [
    "## example of l2 on a dense layer\n",
    "##from keras.layers import Dense\n",
    "##from keras.regularizers import l2\n",
    "\n",
    "##model.add(Dense(32, kernel_regularizer=l2(0.01), bias_regularizer=l2(0.01)))\n"
   ]
  },
  {
   "cell_type": "markdown",
   "id": "4e0f5a8c",
   "metadata": {
    "papermill": {
     "duration": 0.007266,
     "end_time": "2022-09-17T10:04:48.467018",
     "exception": false,
     "start_time": "2022-09-17T10:04:48.459752",
     "status": "completed"
    },
    "tags": []
   },
   "source": [
    "kernel_regularizer: Regularizer to apply a penalty on the layer's kernel  \n",
    "bias_regularizer: Regularizer to apply a penalty on the layer's bias"
   ]
  },
  {
   "cell_type": "markdown",
   "id": "ef2959a9",
   "metadata": {
    "papermill": {
     "duration": 0.00651,
     "end_time": "2022-09-17T10:04:48.480125",
     "exception": false,
     "start_time": "2022-09-17T10:04:48.473615",
     "status": "completed"
    },
    "tags": []
   },
   "source": [
    "#### Weight Regularization for Convolutional Layers"
   ]
  },
  {
   "cell_type": "markdown",
   "id": "5ce2db91",
   "metadata": {
    "papermill": {
     "duration": 0.006544,
     "end_time": "2022-09-17T10:04:48.493132",
     "exception": false,
     "start_time": "2022-09-17T10:04:48.486588",
     "status": "completed"
    },
    "tags": []
   },
   "source": [
    "\n",
    "Like the Dense layer, the Convolutional layers (e.g. Conv1D and Conv2D) also use the kernel_regularizer and bias_regularizer arguments to define a regularizer."
   ]
  },
  {
   "cell_type": "code",
   "execution_count": 3,
   "id": "fafcfcd9",
   "metadata": {
    "execution": {
     "iopub.execute_input": "2022-09-17T10:04:48.510278Z",
     "iopub.status.busy": "2022-09-17T10:04:48.508349Z",
     "iopub.status.idle": "2022-09-17T10:04:48.515065Z",
     "shell.execute_reply": "2022-09-17T10:04:48.513741Z"
    },
    "papermill": {
     "duration": 0.017297,
     "end_time": "2022-09-17T10:04:48.517601",
     "exception": false,
     "start_time": "2022-09-17T10:04:48.500304",
     "status": "completed"
    },
    "tags": []
   },
   "outputs": [],
   "source": [
    "# example of l2 on a convolutional layer\n",
    "#from keras.layers import Conv2D\n",
    "#from keras.regularizers import l2\n",
    "\n",
    "#model.add(Conv2D(32, (3,3), kernel_regularizer=l2(0.01), bias_regularizer=l2(0.01)))"
   ]
  },
  {
   "cell_type": "markdown",
   "id": "415a52b6",
   "metadata": {
    "papermill": {
     "duration": 0.006605,
     "end_time": "2022-09-17T10:04:48.530965",
     "exception": false,
     "start_time": "2022-09-17T10:04:48.524360",
     "status": "completed"
    },
    "tags": []
   },
   "source": [
    "#### Weight Regularization for Recurrent Layers"
   ]
  },
  {
   "cell_type": "markdown",
   "id": "6ed61af4",
   "metadata": {
    "papermill": {
     "duration": 0.006375,
     "end_time": "2022-09-17T10:04:48.543790",
     "exception": false,
     "start_time": "2022-09-17T10:04:48.537415",
     "status": "completed"
    },
    "tags": []
   },
   "source": [
    "Example for Recccurrent Layers :   \n",
    "LSTM layer  \n",
    "GRU layer  \n",
    "SimpleRNN layer  \n",
    "TimeDistributed layer  \n",
    "Bidirectional layer  \n",
    "ConvLSTM1D layer  \n",
    "ConvLSTM2D layer  \n",
    "ConvLSTM3D layer  \n",
    "Base RNN layer"
   ]
  },
  {
   "cell_type": "markdown",
   "id": "dd740ece",
   "metadata": {
    "papermill": {
     "duration": 0.006877,
     "end_time": "2022-09-17T10:04:48.557231",
     "exception": false,
     "start_time": "2022-09-17T10:04:48.550354",
     "status": "completed"
    },
    "tags": []
   },
   "source": [
    "\n",
    "Recurrent layers like the LSTM offer more flexibility in regularizing the weights.\n",
    "\n",
    "The input, recurrent, and bias weights can all be regularized separately via the kernel_regularizer, recurrent_regularizer, and bias_regularizer arguments.\n",
    "\n",
    "The example below sets an l2 regularizer on an LSTM recurrent layer:"
   ]
  },
  {
   "cell_type": "markdown",
   "id": "0e8c282f",
   "metadata": {
    "papermill": {
     "duration": 0.006069,
     "end_time": "2022-09-17T10:04:48.569668",
     "exception": false,
     "start_time": "2022-09-17T10:04:48.563599",
     "status": "completed"
    },
    "tags": []
   },
   "source": []
  },
  {
   "cell_type": "code",
   "execution_count": 4,
   "id": "a1484aee",
   "metadata": {
    "execution": {
     "iopub.execute_input": "2022-09-17T10:04:48.584606Z",
     "iopub.status.busy": "2022-09-17T10:04:48.584254Z",
     "iopub.status.idle": "2022-09-17T10:04:48.589689Z",
     "shell.execute_reply": "2022-09-17T10:04:48.588312Z"
    },
    "papermill": {
     "duration": 0.016439,
     "end_time": "2022-09-17T10:04:48.592428",
     "exception": false,
     "start_time": "2022-09-17T10:04:48.575989",
     "status": "completed"
    },
    "tags": []
   },
   "outputs": [],
   "source": [
    "# example of l2 on an lstm layer\n",
    "#from keras.layers import LSTM\n",
    "#from keras.regularizers import l2\n",
    "#model.add(LSTM(32, kernel_regularizer=l2(0.01), recurrent_regularizer=l2(0.01), bias_regularizer=l2(0.01)))"
   ]
  },
  {
   "cell_type": "markdown",
   "id": "326e1945",
   "metadata": {
    "papermill": {
     "duration": 0.006285,
     "end_time": "2022-09-17T10:04:48.605767",
     "exception": false,
     "start_time": "2022-09-17T10:04:48.599482",
     "status": "completed"
    },
    "tags": []
   },
   "source": [
    "#### Which layers should i add L2 regularization ?"
   ]
  },
  {
   "cell_type": "markdown",
   "id": "273b685d",
   "metadata": {
    "papermill": {
     "duration": 0.006306,
     "end_time": "2022-09-17T10:04:48.618640",
     "exception": false,
     "start_time": "2022-09-17T10:04:48.612334",
     "status": "completed"
    },
    "tags": []
   },
   "source": [
    "it seems to be an convention to add L2 regularization for each layer, as long as you didn’t set a too large weight for that."
   ]
  },
  {
   "cell_type": "markdown",
   "id": "6e736f55",
   "metadata": {
    "papermill": {
     "duration": 0.0061,
     "end_time": "2022-09-17T10:04:48.631389",
     "exception": false,
     "start_time": "2022-09-17T10:04:48.625289",
     "status": "completed"
    },
    "tags": []
   },
   "source": [
    "To increase the regularization of a model(=the effect of the L_2 penalization) one of the actions that you can do **is increasing the value of the hyperparameter.**"
   ]
  },
  {
   "cell_type": "markdown",
   "id": "3c410e8f",
   "metadata": {
    "papermill": {
     "duration": 0.006338,
     "end_time": "2022-09-17T10:04:48.644631",
     "exception": false,
     "start_time": "2022-09-17T10:04:48.638293",
     "status": "completed"
    },
    "tags": []
   },
   "source": [
    "### Example"
   ]
  },
  {
   "cell_type": "markdown",
   "id": "5cfbfdcd",
   "metadata": {
    "papermill": {
     "duration": 0.006076,
     "end_time": "2022-09-17T10:04:48.657035",
     "exception": false,
     "start_time": "2022-09-17T10:04:48.650959",
     "status": "completed"
    },
    "tags": []
   },
   "source": [
    "to be added on the dropout part ::  \n",
    "Typically there is no need to to add dropout for every layer. In most of the popular CNN structure, you may only add dropout at each (or only the last) full connected layer.\n",
    "\n",
    "Adding too much dropout for regularization will severely slow down the convergence rate, and change over-fitting to under-fitting."
   ]
  },
  {
   "cell_type": "code",
   "execution_count": 5,
   "id": "56f1d1f3",
   "metadata": {
    "execution": {
     "iopub.execute_input": "2022-09-17T10:04:48.673136Z",
     "iopub.status.busy": "2022-09-17T10:04:48.671293Z",
     "iopub.status.idle": "2022-09-17T10:04:53.251127Z",
     "shell.execute_reply": "2022-09-17T10:04:53.249710Z"
    },
    "papermill": {
     "duration": 4.590198,
     "end_time": "2022-09-17T10:04:53.253944",
     "exception": false,
     "start_time": "2022-09-17T10:04:48.663746",
     "status": "completed"
    },
    "tags": []
   },
   "outputs": [
    {
     "name": "stderr",
     "output_type": "stream",
     "text": [
      "2022-09-17 10:04:49.171130: I tensorflow/stream_executor/cuda/cuda_gpu_executor.cc:937] successful NUMA node read from SysFS had negative value (-1), but there must be at least one NUMA node, so returning NUMA node zero\n",
      "2022-09-17 10:04:49.310382: I tensorflow/stream_executor/cuda/cuda_gpu_executor.cc:937] successful NUMA node read from SysFS had negative value (-1), but there must be at least one NUMA node, so returning NUMA node zero\n",
      "2022-09-17 10:04:49.314490: I tensorflow/stream_executor/cuda/cuda_gpu_executor.cc:937] successful NUMA node read from SysFS had negative value (-1), but there must be at least one NUMA node, so returning NUMA node zero\n",
      "2022-09-17 10:04:49.319560: I tensorflow/core/platform/cpu_feature_guard.cc:142] This TensorFlow binary is optimized with oneAPI Deep Neural Network Library (oneDNN) to use the following CPU instructions in performance-critical operations:  AVX2 FMA\n",
      "To enable them in other operations, rebuild TensorFlow with the appropriate compiler flags.\n",
      "2022-09-17 10:04:49.324918: I tensorflow/stream_executor/cuda/cuda_gpu_executor.cc:937] successful NUMA node read from SysFS had negative value (-1), but there must be at least one NUMA node, so returning NUMA node zero\n",
      "2022-09-17 10:04:49.328906: I tensorflow/stream_executor/cuda/cuda_gpu_executor.cc:937] successful NUMA node read from SysFS had negative value (-1), but there must be at least one NUMA node, so returning NUMA node zero\n",
      "2022-09-17 10:04:49.332649: I tensorflow/stream_executor/cuda/cuda_gpu_executor.cc:937] successful NUMA node read from SysFS had negative value (-1), but there must be at least one NUMA node, so returning NUMA node zero\n",
      "2022-09-17 10:04:52.487553: I tensorflow/stream_executor/cuda/cuda_gpu_executor.cc:937] successful NUMA node read from SysFS had negative value (-1), but there must be at least one NUMA node, so returning NUMA node zero\n",
      "2022-09-17 10:04:52.491634: I tensorflow/stream_executor/cuda/cuda_gpu_executor.cc:937] successful NUMA node read from SysFS had negative value (-1), but there must be at least one NUMA node, so returning NUMA node zero\n",
      "2022-09-17 10:04:52.495604: I tensorflow/stream_executor/cuda/cuda_gpu_executor.cc:937] successful NUMA node read from SysFS had negative value (-1), but there must be at least one NUMA node, so returning NUMA node zero\n",
      "2022-09-17 10:04:52.499447: I tensorflow/core/common_runtime/gpu/gpu_device.cc:1510] Created device /job:localhost/replica:0/task:0/device:GPU:0 with 15401 MB memory:  -> device: 0, name: Tesla P100-PCIE-16GB, pci bus id: 0000:00:04.0, compute capability: 6.0\n"
     ]
    }
   ],
   "source": [
    "model0 = ks.models.Sequential()\n",
    "model0.add(ks.layers.Dense(4, input_shape=(64, 64, 1))) #units=4(we define how many outputs we want)\n",
    "model0.add(ks.layers.Dense(8, input_shape=(64, 64, 1)))\n",
    "model0.add(ks.layers.Dense(8, input_shape=(64, 64, 1)))\n",
    "model0.add(ks.layers.Conv2D(64,(3, 3), activation='relu')) \n",
    "       \n",
    "model0.add(ks.layers.MaxPooling2D(pool_size=2, strides=2))\n",
    "model0.add(ks.layers.Conv2D(128, (3, 3), activation='relu'))\n",
    "model0.add(ks.layers.MaxPooling2D(2, 2)) \n",
    "       \n",
    "model0.add(ks.layers.Conv2D(256, (3, 3), activation='relu'))\n",
    "model0.add(ks.layers.MaxPooling2D(2, 2))\n",
    "model0.add(ks.layers.Conv2D(512, (3, 3), activation='relu'))\n",
    "model0.add(ks.layers.MaxPooling2D(2, 2))\n",
    "model0.add(ks.layers.Dropout(0.2))\n",
    "model0.add(ks.layers.Flatten())\n",
    "\n",
    "model0.add(ks.layers.Dense(1024, activation='relu'))\n",
    "model0.add(ks.layers.Dense(10, activation='softmax'))\n",
    "\n",
    "model0.compile(optimizer='adam',\n",
    "              loss='sparse_categorical_crossentropy',\n",
    "              metrics=['acc'])\n"
   ]
  },
  {
   "cell_type": "code",
   "execution_count": 6,
   "id": "76aba223",
   "metadata": {
    "execution": {
     "iopub.execute_input": "2022-09-17T10:04:53.269951Z",
     "iopub.status.busy": "2022-09-17T10:04:53.269560Z",
     "iopub.status.idle": "2022-09-17T10:05:02.624257Z",
     "shell.execute_reply": "2022-09-17T10:05:02.622870Z"
    },
    "papermill": {
     "duration": 9.366837,
     "end_time": "2022-09-17T10:05:02.627958",
     "exception": false,
     "start_time": "2022-09-17T10:04:53.261121",
     "status": "completed"
    },
    "tags": []
   },
   "outputs": [],
   "source": [
    "#This is more explained on my notebook: https://www.kaggle.com/code/houssemaminetouihri/implementation-of-cnn-s-models-and-comparison-betw#Importing-necessary-libraries\n",
    "#Reading the data\n",
    "train=pd.read_csv(\"../input/sign-recognition/Train.csv\")\n",
    "test=pd.read_csv(\"../input/sign-recognition/Test.csv\")\n",
    "#Drop ID column and define train_y , train_x , test_x\n",
    "train_y=train['Target'].astype('float32')\n",
    "train_x=train.drop(['Target','ID'],axis=1).astype('int32')\n",
    "test_x=test.drop(['ID'],axis=1).astype('int32')\n",
    "#One Hot Encoding for train_y\n",
    "train_y=ks.utils.to_categorical(train_y,10)\n",
    "#Reshape the size of images and normalize them\n",
    "train_x=train_x.values.reshape(-1,64,64,1) #.values return an array #-1:to convert it to 1-D \n",
    "train_x=train_x/255.0\n",
    "test_x=test_x.values.reshape(-1,64,64,1)\n",
    "test_x/255.0\n",
    "#split\n",
    "x_train , x_test, y_train , y_test=train_test_split(train_x, train_y , test_size=0.15)\n",
    "#Generating new images\n",
    "datagenerator = ImageDataGenerator(\n",
    "        featurewise_center=False,  # set input mean to 0 over the dataset\n",
    "        samplewise_center=False,  # set each sample mean to 0\n",
    "        featurewise_std_normalization=False,  # divide inputs by std of the dataset\n",
    "        samplewise_std_normalization=False,  # divide each input by its std\n",
    "        zca_whitening=False,  # apply ZCA whitening\n",
    "        rotation_range=10,  # randomly rotate images in the range (degrees, 0 to 180)\n",
    "        zoom_range = 0.1, # Randomly zoom image \n",
    "        width_shift_range=0.1,  # randomly shift images horizontally (fraction of total width)\n",
    "        height_shift_range=0.1,  # randomly shift images vertically (fraction of total height)\n",
    "        horizontal_flip=False,  # randomly flip images\n",
    "        vertical_flip=False)  # randomly flip images\n",
    "train_generator = datagenerator.flow(x_train,y_train,)\n",
    "validation_generator = datagenerator.flow(x_test, y_test)\n",
    "model0.compile(optimizer=ks.optimizers.Adam(),loss='categorical_crossentropy',metrics=['acc'])\n",
    "class myCallback(ks.callbacks.Callback):\n",
    "    def on_epoch_end(self, epoch, logs={}):\n",
    "        if(logs.get('acc')>0.85) and (logs.get('val_acc')>0.85):\n",
    "            print('\\n reached 84% accuarcy so stopping training')\n",
    "            self.model.stop_training = True"
   ]
  },
  {
   "cell_type": "code",
   "execution_count": 7,
   "id": "8fc0037d",
   "metadata": {
    "execution": {
     "iopub.execute_input": "2022-09-17T10:05:02.652986Z",
     "iopub.status.busy": "2022-09-17T10:05:02.652401Z",
     "iopub.status.idle": "2022-09-17T10:12:10.231658Z",
     "shell.execute_reply": "2022-09-17T10:12:10.230370Z"
    },
    "papermill": {
     "duration": 427.595035,
     "end_time": "2022-09-17T10:12:10.234807",
     "exception": false,
     "start_time": "2022-09-17T10:05:02.639772",
     "status": "completed"
    },
    "tags": []
   },
   "outputs": [
    {
     "name": "stderr",
     "output_type": "stream",
     "text": [
      "/opt/conda/lib/python3.7/site-packages/keras/engine/training.py:1972: UserWarning: `Model.fit_generator` is deprecated and will be removed in a future version. Please use `Model.fit`, which supports generators.\n",
      "  warnings.warn('`Model.fit_generator` is deprecated and '\n",
      "2022-09-17 10:05:02.800061: I tensorflow/compiler/mlir/mlir_graph_optimization_pass.cc:185] None of the MLIR Optimization Passes are enabled (registered 2)\n"
     ]
    },
    {
     "name": "stdout",
     "output_type": "stream",
     "text": [
      "Epoch 1/100\n"
     ]
    },
    {
     "name": "stderr",
     "output_type": "stream",
     "text": [
      "2022-09-17 10:05:06.196429: I tensorflow/stream_executor/cuda/cuda_dnn.cc:369] Loaded cuDNN version 8005\n"
     ]
    },
    {
     "name": "stdout",
     "output_type": "stream",
     "text": [
      "133/133 [==============================] - 15s 44ms/step - loss: 1.8809 - acc: 0.2711 - val_loss: 1.3466 - val_acc: 0.4400\n",
      "Epoch 2/100\n",
      "133/133 [==============================] - 4s 29ms/step - loss: 1.0412 - acc: 0.5718 - val_loss: 0.9085 - val_acc: 0.6307\n",
      "Epoch 3/100\n",
      "133/133 [==============================] - 4s 32ms/step - loss: 0.7358 - acc: 0.7047 - val_loss: 0.6663 - val_acc: 0.7320\n",
      "Epoch 4/100\n",
      "133/133 [==============================] - 4s 30ms/step - loss: 0.6213 - acc: 0.7600 - val_loss: 0.6004 - val_acc: 0.7733\n",
      "Epoch 5/100\n",
      "133/133 [==============================] - 4s 29ms/step - loss: 0.5706 - acc: 0.7842 - val_loss: 0.5961 - val_acc: 0.7613\n",
      "Epoch 6/100\n",
      "133/133 [==============================] - 4s 32ms/step - loss: 0.5545 - acc: 0.7852 - val_loss: 0.5854 - val_acc: 0.7787\n",
      "Epoch 7/100\n",
      "133/133 [==============================] - 4s 29ms/step - loss: 0.5236 - acc: 0.8052 - val_loss: 0.5388 - val_acc: 0.8093\n",
      "Epoch 8/100\n",
      "133/133 [==============================] - 5s 36ms/step - loss: 0.5191 - acc: 0.8035 - val_loss: 0.5748 - val_acc: 0.7573\n",
      "Epoch 9/100\n",
      "133/133 [==============================] - 4s 31ms/step - loss: 0.4967 - acc: 0.8141 - val_loss: 0.5892 - val_acc: 0.7853\n",
      "Epoch 10/100\n",
      "133/133 [==============================] - 4s 29ms/step - loss: 0.4969 - acc: 0.8134 - val_loss: 0.5376 - val_acc: 0.7973\n",
      "Epoch 11/100\n",
      "133/133 [==============================] - 4s 32ms/step - loss: 0.4863 - acc: 0.8169 - val_loss: 0.5528 - val_acc: 0.7827\n",
      "Epoch 12/100\n",
      "133/133 [==============================] - 4s 29ms/step - loss: 0.4795 - acc: 0.8214 - val_loss: 0.5356 - val_acc: 0.7987\n",
      "Epoch 13/100\n",
      "133/133 [==============================] - 4s 28ms/step - loss: 0.4644 - acc: 0.8268 - val_loss: 0.5481 - val_acc: 0.7853\n",
      "Epoch 14/100\n",
      "133/133 [==============================] - 4s 32ms/step - loss: 0.4668 - acc: 0.8219 - val_loss: 0.5230 - val_acc: 0.8093\n",
      "Epoch 15/100\n",
      "133/133 [==============================] - 4s 29ms/step - loss: 0.4658 - acc: 0.8268 - val_loss: 0.5699 - val_acc: 0.8080\n",
      "Epoch 16/100\n",
      "133/133 [==============================] - 5s 38ms/step - loss: 0.4722 - acc: 0.8200 - val_loss: 0.5639 - val_acc: 0.7920\n",
      "Epoch 17/100\n",
      "133/133 [==============================] - 4s 29ms/step - loss: 0.4517 - acc: 0.8320 - val_loss: 0.5135 - val_acc: 0.8093\n",
      "Epoch 18/100\n",
      "133/133 [==============================] - 4s 29ms/step - loss: 0.4438 - acc: 0.8353 - val_loss: 0.5163 - val_acc: 0.8173\n",
      "Epoch 19/100\n",
      "133/133 [==============================] - 4s 31ms/step - loss: 0.4508 - acc: 0.8285 - val_loss: 0.5397 - val_acc: 0.8027\n",
      "Epoch 20/100\n",
      "133/133 [==============================] - 4s 28ms/step - loss: 0.4418 - acc: 0.8311 - val_loss: 0.5177 - val_acc: 0.8160\n",
      "Epoch 21/100\n",
      "133/133 [==============================] - 4s 29ms/step - loss: 0.4409 - acc: 0.8336 - val_loss: 0.5576 - val_acc: 0.8120\n",
      "Epoch 22/100\n",
      "133/133 [==============================] - 4s 31ms/step - loss: 0.4419 - acc: 0.8360 - val_loss: 0.5564 - val_acc: 0.7933\n",
      "Epoch 23/100\n",
      "133/133 [==============================] - 4s 32ms/step - loss: 0.4265 - acc: 0.8362 - val_loss: 0.5245 - val_acc: 0.8133\n",
      "Epoch 24/100\n",
      "133/133 [==============================] - 5s 34ms/step - loss: 0.4305 - acc: 0.8360 - val_loss: 0.5413 - val_acc: 0.8040\n",
      "Epoch 25/100\n",
      "133/133 [==============================] - 4s 31ms/step - loss: 0.4240 - acc: 0.8358 - val_loss: 0.5443 - val_acc: 0.8173\n",
      "Epoch 26/100\n",
      "133/133 [==============================] - 4s 29ms/step - loss: 0.4139 - acc: 0.8398 - val_loss: 0.5320 - val_acc: 0.8107\n",
      "Epoch 27/100\n",
      "133/133 [==============================] - 4s 33ms/step - loss: 0.4208 - acc: 0.8386 - val_loss: 0.5325 - val_acc: 0.8080\n",
      "Epoch 28/100\n",
      "133/133 [==============================] - 4s 29ms/step - loss: 0.3884 - acc: 0.8504 - val_loss: 0.5283 - val_acc: 0.8187\n",
      "Epoch 29/100\n",
      "133/133 [==============================] - 5s 36ms/step - loss: 0.3758 - acc: 0.8508 - val_loss: 0.5422 - val_acc: 0.8173\n",
      "Epoch 30/100\n",
      "133/133 [==============================] - 4s 29ms/step - loss: 0.3677 - acc: 0.8525 - val_loss: 0.5412 - val_acc: 0.8213\n",
      "Epoch 31/100\n",
      "133/133 [==============================] - 5s 34ms/step - loss: 0.3568 - acc: 0.8506 - val_loss: 0.5499 - val_acc: 0.8173\n",
      "Epoch 32/100\n",
      "133/133 [==============================] - 5s 35ms/step - loss: 0.3639 - acc: 0.8551 - val_loss: 0.5459 - val_acc: 0.8120\n",
      "Epoch 33/100\n",
      "133/133 [==============================] - 4s 30ms/step - loss: 0.3583 - acc: 0.8558 - val_loss: 0.5518 - val_acc: 0.8160\n",
      "Epoch 34/100\n",
      "133/133 [==============================] - 4s 32ms/step - loss: 0.3478 - acc: 0.8569 - val_loss: 0.5543 - val_acc: 0.8120\n",
      "Epoch 35/100\n",
      "133/133 [==============================] - 4s 28ms/step - loss: 0.3427 - acc: 0.8565 - val_loss: 0.5894 - val_acc: 0.8147\n",
      "Epoch 36/100\n",
      "133/133 [==============================] - 4s 28ms/step - loss: 0.3475 - acc: 0.8612 - val_loss: 0.5868 - val_acc: 0.8053\n",
      "Epoch 37/100\n",
      "133/133 [==============================] - 4s 32ms/step - loss: 0.3438 - acc: 0.8569 - val_loss: 0.6045 - val_acc: 0.8080\n",
      "Epoch 38/100\n",
      "133/133 [==============================] - 5s 34ms/step - loss: 0.3379 - acc: 0.8595 - val_loss: 0.5783 - val_acc: 0.8093\n",
      "Epoch 39/100\n",
      "133/133 [==============================] - 4s 29ms/step - loss: 0.3418 - acc: 0.8602 - val_loss: 0.5701 - val_acc: 0.8160\n",
      "Epoch 40/100\n",
      "133/133 [==============================] - 4s 32ms/step - loss: 0.3336 - acc: 0.8607 - val_loss: 0.5687 - val_acc: 0.8200\n",
      "Epoch 41/100\n",
      "133/133 [==============================] - 4s 30ms/step - loss: 0.3339 - acc: 0.8607 - val_loss: 0.5766 - val_acc: 0.8200\n",
      "Epoch 42/100\n",
      "133/133 [==============================] - 4s 32ms/step - loss: 0.3367 - acc: 0.8616 - val_loss: 0.5828 - val_acc: 0.8093\n",
      "Epoch 43/100\n",
      "133/133 [==============================] - 4s 29ms/step - loss: 0.3288 - acc: 0.8642 - val_loss: 0.5963 - val_acc: 0.8160\n",
      "Epoch 44/100\n",
      "133/133 [==============================] - 4s 29ms/step - loss: 0.3337 - acc: 0.8588 - val_loss: 0.5752 - val_acc: 0.8107\n",
      "Epoch 45/100\n",
      "133/133 [==============================] - 4s 33ms/step - loss: 0.3300 - acc: 0.8635 - val_loss: 0.5852 - val_acc: 0.8120\n",
      "Epoch 46/100\n",
      "133/133 [==============================] - 5s 35ms/step - loss: 0.3337 - acc: 0.8631 - val_loss: 0.5790 - val_acc: 0.8173\n",
      "Epoch 47/100\n",
      "133/133 [==============================] - 4s 29ms/step - loss: 0.3374 - acc: 0.8607 - val_loss: 0.5805 - val_acc: 0.8093\n",
      "Epoch 48/100\n",
      "133/133 [==============================] - 4s 33ms/step - loss: 0.3232 - acc: 0.8640 - val_loss: 0.5995 - val_acc: 0.8053\n",
      "Epoch 49/100\n",
      "133/133 [==============================] - 4s 29ms/step - loss: 0.3258 - acc: 0.8664 - val_loss: 0.5942 - val_acc: 0.8120\n",
      "Epoch 50/100\n",
      "133/133 [==============================] - 4s 32ms/step - loss: 0.3275 - acc: 0.8631 - val_loss: 0.6013 - val_acc: 0.8040\n",
      "Epoch 51/100\n",
      "133/133 [==============================] - 4s 28ms/step - loss: 0.3286 - acc: 0.8652 - val_loss: 0.5894 - val_acc: 0.8120\n",
      "Epoch 52/100\n",
      "133/133 [==============================] - 4s 28ms/step - loss: 0.3302 - acc: 0.8649 - val_loss: 0.5779 - val_acc: 0.8080\n",
      "Epoch 53/100\n",
      "133/133 [==============================] - 4s 32ms/step - loss: 0.3319 - acc: 0.8635 - val_loss: 0.5886 - val_acc: 0.8053\n",
      "Epoch 54/100\n",
      "133/133 [==============================] - 5s 36ms/step - loss: 0.3340 - acc: 0.8631 - val_loss: 0.5802 - val_acc: 0.8067\n",
      "Epoch 55/100\n",
      "133/133 [==============================] - 4s 28ms/step - loss: 0.3307 - acc: 0.8635 - val_loss: 0.5876 - val_acc: 0.8107\n",
      "Epoch 56/100\n",
      "133/133 [==============================] - 5s 34ms/step - loss: 0.3269 - acc: 0.8633 - val_loss: 0.5874 - val_acc: 0.8173\n",
      "Epoch 57/100\n",
      "133/133 [==============================] - 4s 29ms/step - loss: 0.3227 - acc: 0.8678 - val_loss: 0.6021 - val_acc: 0.8053\n",
      "Epoch 58/100\n",
      "133/133 [==============================] - 4s 31ms/step - loss: 0.3267 - acc: 0.8656 - val_loss: 0.5853 - val_acc: 0.8173\n",
      "Epoch 59/100\n",
      "133/133 [==============================] - 4s 28ms/step - loss: 0.3257 - acc: 0.8635 - val_loss: 0.5649 - val_acc: 0.8107\n",
      "Epoch 60/100\n",
      "133/133 [==============================] - 4s 28ms/step - loss: 0.3376 - acc: 0.8605 - val_loss: 0.5819 - val_acc: 0.8107\n",
      "Epoch 61/100\n",
      "133/133 [==============================] - 5s 37ms/step - loss: 0.3268 - acc: 0.8656 - val_loss: 0.5977 - val_acc: 0.8107\n",
      "Epoch 62/100\n",
      "133/133 [==============================] - 4s 28ms/step - loss: 0.3393 - acc: 0.8628 - val_loss: 0.5887 - val_acc: 0.8107\n",
      "Epoch 63/100\n",
      "133/133 [==============================] - 4s 30ms/step - loss: 0.3323 - acc: 0.8616 - val_loss: 0.5778 - val_acc: 0.8253\n",
      "Epoch 64/100\n",
      "133/133 [==============================] - 4s 31ms/step - loss: 0.3260 - acc: 0.8628 - val_loss: 0.5952 - val_acc: 0.8053\n",
      "Epoch 65/100\n",
      "133/133 [==============================] - 4s 28ms/step - loss: 0.3257 - acc: 0.8668 - val_loss: 0.6198 - val_acc: 0.8147\n",
      "Epoch 66/100\n",
      "133/133 [==============================] - 4s 31ms/step - loss: 0.3244 - acc: 0.8671 - val_loss: 0.5679 - val_acc: 0.8173\n",
      "Epoch 67/100\n",
      "133/133 [==============================] - 4s 28ms/step - loss: 0.3256 - acc: 0.8661 - val_loss: 0.5753 - val_acc: 0.8133\n",
      "Epoch 68/100\n",
      "133/133 [==============================] - 4s 28ms/step - loss: 0.3258 - acc: 0.8645 - val_loss: 0.5832 - val_acc: 0.8133\n",
      "Epoch 69/100\n",
      "133/133 [==============================] - 5s 37ms/step - loss: 0.3327 - acc: 0.8609 - val_loss: 0.5700 - val_acc: 0.8147\n",
      "Epoch 70/100\n",
      "133/133 [==============================] - 4s 29ms/step - loss: 0.3281 - acc: 0.8635 - val_loss: 0.5905 - val_acc: 0.8120\n",
      "Epoch 71/100\n",
      "133/133 [==============================] - 4s 31ms/step - loss: 0.3372 - acc: 0.8605 - val_loss: 0.5923 - val_acc: 0.8093\n",
      "Epoch 72/100\n",
      "133/133 [==============================] - 4s 32ms/step - loss: 0.3328 - acc: 0.8609 - val_loss: 0.5654 - val_acc: 0.8147\n",
      "Epoch 73/100\n",
      "133/133 [==============================] - 4s 28ms/step - loss: 0.3300 - acc: 0.8614 - val_loss: 0.6185 - val_acc: 0.8067\n",
      "Epoch 74/100\n",
      "133/133 [==============================] - 4s 34ms/step - loss: 0.3342 - acc: 0.8640 - val_loss: 0.5957 - val_acc: 0.8067\n",
      "Epoch 75/100\n",
      "133/133 [==============================] - 4s 29ms/step - loss: 0.3292 - acc: 0.8628 - val_loss: 0.6059 - val_acc: 0.8080\n",
      "Epoch 76/100\n",
      "133/133 [==============================] - 4s 29ms/step - loss: 0.3324 - acc: 0.8633 - val_loss: 0.5814 - val_acc: 0.8107\n",
      "Epoch 77/100\n",
      "133/133 [==============================] - 5s 37ms/step - loss: 0.3250 - acc: 0.8652 - val_loss: 0.5935 - val_acc: 0.8160\n",
      "Epoch 78/100\n",
      "133/133 [==============================] - 4s 29ms/step - loss: 0.3349 - acc: 0.8614 - val_loss: 0.5868 - val_acc: 0.8093\n",
      "Epoch 79/100\n",
      "133/133 [==============================] - 4s 30ms/step - loss: 0.3270 - acc: 0.8614 - val_loss: 0.5776 - val_acc: 0.8093\n",
      "Epoch 80/100\n",
      "133/133 [==============================] - 4s 28ms/step - loss: 0.3319 - acc: 0.8664 - val_loss: 0.5802 - val_acc: 0.8133\n",
      "Epoch 81/100\n",
      "133/133 [==============================] - 4s 28ms/step - loss: 0.3309 - acc: 0.8633 - val_loss: 0.5832 - val_acc: 0.8160\n",
      "Epoch 82/100\n",
      "133/133 [==============================] - 4s 31ms/step - loss: 0.3360 - acc: 0.8607 - val_loss: 0.5804 - val_acc: 0.8107\n",
      "Epoch 83/100\n",
      "133/133 [==============================] - 4s 28ms/step - loss: 0.3344 - acc: 0.8638 - val_loss: 0.5795 - val_acc: 0.8200\n",
      "Epoch 84/100\n",
      "133/133 [==============================] - 4s 28ms/step - loss: 0.3305 - acc: 0.8647 - val_loss: 0.5866 - val_acc: 0.8080\n",
      "Epoch 85/100\n",
      "133/133 [==============================] - 5s 40ms/step - loss: 0.3369 - acc: 0.8602 - val_loss: 0.5742 - val_acc: 0.8067\n",
      "Epoch 86/100\n",
      "133/133 [==============================] - 4s 28ms/step - loss: 0.3365 - acc: 0.8607 - val_loss: 0.5781 - val_acc: 0.8200\n",
      "Epoch 87/100\n",
      "133/133 [==============================] - 4s 28ms/step - loss: 0.3270 - acc: 0.8659 - val_loss: 0.5628 - val_acc: 0.8147\n",
      "Epoch 88/100\n",
      "133/133 [==============================] - 4s 31ms/step - loss: 0.3333 - acc: 0.8612 - val_loss: 0.5940 - val_acc: 0.8173\n",
      "Epoch 89/100\n",
      "133/133 [==============================] - 4s 28ms/step - loss: 0.3340 - acc: 0.8612 - val_loss: 0.5894 - val_acc: 0.8067\n",
      "Epoch 90/100\n",
      "133/133 [==============================] - 4s 31ms/step - loss: 0.3368 - acc: 0.8614 - val_loss: 0.5934 - val_acc: 0.8147\n",
      "Epoch 91/100\n",
      "133/133 [==============================] - 4s 29ms/step - loss: 0.3321 - acc: 0.8628 - val_loss: 0.5897 - val_acc: 0.8120\n",
      "Epoch 92/100\n",
      "133/133 [==============================] - 4s 30ms/step - loss: 0.3286 - acc: 0.8633 - val_loss: 0.5702 - val_acc: 0.8080\n",
      "Epoch 93/100\n",
      "133/133 [==============================] - 4s 33ms/step - loss: 0.3319 - acc: 0.8612 - val_loss: 0.5976 - val_acc: 0.8120\n",
      "Epoch 94/100\n",
      "133/133 [==============================] - 4s 28ms/step - loss: 0.3323 - acc: 0.8640 - val_loss: 0.5725 - val_acc: 0.8187\n",
      "Epoch 95/100\n",
      "133/133 [==============================] - 4s 28ms/step - loss: 0.3298 - acc: 0.8624 - val_loss: 0.5865 - val_acc: 0.8080\n",
      "Epoch 96/100\n",
      "133/133 [==============================] - 4s 32ms/step - loss: 0.3323 - acc: 0.8607 - val_loss: 0.5991 - val_acc: 0.8173\n",
      "Epoch 97/100\n",
      "133/133 [==============================] - 4s 28ms/step - loss: 0.3326 - acc: 0.8614 - val_loss: 0.5983 - val_acc: 0.8067\n",
      "Epoch 98/100\n",
      "133/133 [==============================] - 4s 31ms/step - loss: 0.3330 - acc: 0.8638 - val_loss: 0.5696 - val_acc: 0.8267\n",
      "Epoch 99/100\n",
      "133/133 [==============================] - 4s 28ms/step - loss: 0.3297 - acc: 0.8626 - val_loss: 0.5960 - val_acc: 0.8093\n",
      "Epoch 100/100\n",
      "133/133 [==============================] - 5s 34ms/step - loss: 0.3260 - acc: 0.8652 - val_loss: 0.5692 - val_acc: 0.8107\n"
     ]
    }
   ],
   "source": [
    "callbacks = myCallback()\n",
    "batch_size=5\n",
    "FAST_RUN = False\n",
    "epochs=20 if FAST_RUN else 100\n",
    "history = model0.fit_generator(\n",
    "    train_generator, \n",
    "    epochs=epochs,\n",
    "    validation_data=validation_generator,\n",
    "    callbacks=[\n",
    "        ks.callbacks.ReduceLROnPlateau(), \n",
    "        callbacks\n",
    "    ]\n",
    ")\n"
   ]
  },
  {
   "cell_type": "code",
   "execution_count": 8,
   "id": "777b829c",
   "metadata": {
    "execution": {
     "iopub.execute_input": "2022-09-17T10:12:10.945468Z",
     "iopub.status.busy": "2022-09-17T10:12:10.945041Z",
     "iopub.status.idle": "2022-09-17T10:12:11.228831Z",
     "shell.execute_reply": "2022-09-17T10:12:11.227599Z"
    },
    "papermill": {
     "duration": 0.624229,
     "end_time": "2022-09-17T10:12:11.231308",
     "exception": false,
     "start_time": "2022-09-17T10:12:10.607079",
     "status": "completed"
    },
    "tags": []
   },
   "outputs": [
    {
     "data": {
      "image/png": "[encoded data removed]",
      "text/plain": [
       "<Figure size 432x288 with 1 Axes>"
      ]
     },
     "metadata": {
      "needs_background": "light"
     },
     "output_type": "display_data"
    }
   ],
   "source": [
    "loss_train = history.history['loss']\n",
    "loss_val = history.history['val_loss']\n",
    "epochs = range(1,101)\n",
    "plt.plot(epochs, loss_train, 'g', label='Training loss')\n",
    "plt.plot(epochs, loss_val, 'b', label='validation loss')\n",
    "plt.title('Training and Validation loss')\n",
    "plt.xlabel('Epochs')\n",
    "plt.ylabel('Loss')\n",
    "plt.legend()\n",
    "plt.show()"
   ]
  },
  {
   "cell_type": "code",
   "execution_count": 9,
   "id": "06e3b75e",
   "metadata": {
    "execution": {
     "iopub.execute_input": "2022-09-17T10:12:12.361624Z",
     "iopub.status.busy": "2022-09-17T10:12:12.361167Z",
     "iopub.status.idle": "2022-09-17T10:12:12.513915Z",
     "shell.execute_reply": "2022-09-17T10:12:12.512591Z"
    },
    "papermill": {
     "duration": 0.617303,
     "end_time": "2022-09-17T10:12:12.516871",
     "exception": false,
     "start_time": "2022-09-17T10:12:11.899568",
     "status": "completed"
    },
    "tags": []
   },
   "outputs": [],
   "source": [
    "model0_regularized = ks.models.Sequential()\n",
    "model0_regularized.add(ks.layers.Dense(4, input_shape=(64, 64, 1), kernel_regularizer=l2(0.01), bias_regularizer=l2(0.01))) #units=4(we define how many outputs we want)\n",
    "model0_regularized.add(ks.layers.Dense(8, input_shape=(64, 64, 1), kernel_regularizer=l2(0.01), bias_regularizer=l2(0.01)))\n",
    "model0_regularized.add(ks.layers.Dense(8, input_shape=(64, 64, 1), kernel_regularizer=l2(0.01), bias_regularizer=l2(0.01)))\n",
    "model0_regularized.add(ks.layers.Conv2D(64,(3, 3), activation='relu', kernel_regularizer=l2(0.01), bias_regularizer=l2(0.01))) \n",
    "\n",
    "model0_regularized.add(ks.layers.MaxPooling2D(pool_size=2, strides=2))\n",
    "model0_regularized.add(ks.layers.Conv2D(128, (3, 3), activation='relu', kernel_regularizer=l2(0.01), bias_regularizer=l2(0.01)))\n",
    "model0_regularized.add(ks.layers.MaxPooling2D((2, 2))) \n",
    "       \n",
    "model0_regularized.add(ks.layers.Conv2D(256, (3, 3), activation='relu', kernel_regularizer=l2(0.01), bias_regularizer=l2(0.01)))\n",
    "model0_regularized.add(ks.layers.MaxPooling2D(2, 2))\n",
    "model0_regularized.add(ks.layers.Conv2D(512, (3, 3), activation='relu'))\n",
    "model0_regularized.add(ks.layers.MaxPooling2D(2, 2))\n",
    "model0_regularized.add(ks.layers.Dropout(0.2))\n",
    "model0_regularized.add(ks.layers.Flatten())\n",
    "\n",
    "model0_regularized.add(ks.layers.Dense(1024, activation='relu', kernel_regularizer=l2(0.01) , bias_regularizer=l2(0.01)))\n",
    "model0_regularized.add(ks.layers.Dense(10, activation='softmax', kernel_regularizer=l2(0.01) ,  bias_regularizer=l2(0.01)))\n",
    "#i'm not sure about flatten maxpooling2d\n",
    "\n",
    "model0_regularized.compile(optimizer='adam',\n",
    "              loss='sparse_categorical_crossentropy',\n",
    "              metrics=['acc'])\n",
    "                      # max pooling error for L2 regularization\n"
   ]
  },
  {
   "cell_type": "code",
   "execution_count": 10,
   "id": "e86926b4",
   "metadata": {
    "execution": {
     "iopub.execute_input": "2022-09-17T10:12:13.187219Z",
     "iopub.status.busy": "2022-09-17T10:12:13.186771Z",
     "iopub.status.idle": "2022-09-17T10:12:13.199227Z",
     "shell.execute_reply": "2022-09-17T10:12:13.197920Z"
    },
    "papermill": {
     "duration": 0.35628,
     "end_time": "2022-09-17T10:12:13.202160",
     "exception": false,
     "start_time": "2022-09-17T10:12:12.845880",
     "status": "completed"
    },
    "tags": []
   },
   "outputs": [],
   "source": [
    "model0_regularized.compile(optimizer=ks.optimizers.Adam(),loss='categorical_crossentropy',metrics=['acc'])"
   ]
  },
  {
   "cell_type": "code",
   "execution_count": 11,
   "id": "1836b014",
   "metadata": {
    "execution": {
     "iopub.execute_input": "2022-09-17T10:12:13.907499Z",
     "iopub.status.busy": "2022-09-17T10:12:13.905610Z",
     "iopub.status.idle": "2022-09-17T10:19:22.111911Z",
     "shell.execute_reply": "2022-09-17T10:19:22.110596Z"
    },
    "papermill": {
     "duration": 428.564222,
     "end_time": "2022-09-17T10:19:22.115095",
     "exception": false,
     "start_time": "2022-09-17T10:12:13.550873",
     "status": "completed"
    },
    "tags": []
   },
   "outputs": [
    {
     "name": "stdout",
     "output_type": "stream",
     "text": [
      "Epoch 1/100\n",
      "133/133 [==============================] - 6s 32ms/step - loss: 4.1011 - acc: 0.1165 - val_loss: 2.4035 - val_acc: 0.1413\n",
      "Epoch 2/100\n",
      "133/133 [==============================] - 4s 32ms/step - loss: 2.3741 - acc: 0.1144 - val_loss: 2.3528 - val_acc: 0.1173\n",
      "Epoch 3/100\n",
      "133/133 [==============================] - 4s 29ms/step - loss: 2.3399 - acc: 0.1129 - val_loss: 2.3293 - val_acc: 0.1173\n",
      "Epoch 4/100\n",
      "133/133 [==============================] - 4s 29ms/step - loss: 2.3221 - acc: 0.1129 - val_loss: 2.3163 - val_acc: 0.1173\n",
      "Epoch 5/100\n",
      "133/133 [==============================] - 4s 32ms/step - loss: 2.3122 - acc: 0.1129 - val_loss: 2.3092 - val_acc: 0.1173\n",
      "Epoch 6/100\n",
      "133/133 [==============================] - 5s 34ms/step - loss: 2.3068 - acc: 0.1129 - val_loss: 2.3055 - val_acc: 0.1173\n",
      "Epoch 7/100\n",
      "133/133 [==============================] - 5s 35ms/step - loss: 2.3039 - acc: 0.1129 - val_loss: 2.3034 - val_acc: 0.1173\n",
      "Epoch 8/100\n",
      "133/133 [==============================] - 4s 29ms/step - loss: 2.3024 - acc: 0.1129 - val_loss: 2.3022 - val_acc: 0.1173\n",
      "Epoch 9/100\n",
      "133/133 [==============================] - 4s 28ms/step - loss: 2.3015 - acc: 0.1129 - val_loss: 2.3016 - val_acc: 0.1173\n",
      "Epoch 10/100\n",
      "133/133 [==============================] - 4s 32ms/step - loss: 2.3010 - acc: 0.1129 - val_loss: 2.3016 - val_acc: 0.1173\n",
      "Epoch 11/100\n",
      "133/133 [==============================] - 4s 29ms/step - loss: 2.3008 - acc: 0.1129 - val_loss: 2.3013 - val_acc: 0.1173\n",
      "Epoch 12/100\n",
      "133/133 [==============================] - 4s 29ms/step - loss: 2.3007 - acc: 0.1129 - val_loss: 2.3011 - val_acc: 0.1173\n",
      "Epoch 13/100\n",
      "133/133 [==============================] - 4s 32ms/step - loss: 2.3005 - acc: 0.1129 - val_loss: 2.3011 - val_acc: 0.1173\n",
      "Epoch 14/100\n",
      "133/133 [==============================] - 5s 34ms/step - loss: 2.3005 - acc: 0.1129 - val_loss: 2.3011 - val_acc: 0.1173\n",
      "Epoch 15/100\n",
      "133/133 [==============================] - 5s 34ms/step - loss: 2.3006 - acc: 0.1129 - val_loss: 2.3011 - val_acc: 0.1173\n",
      "Epoch 16/100\n",
      "133/133 [==============================] - 4s 28ms/step - loss: 2.3006 - acc: 0.1129 - val_loss: 2.3012 - val_acc: 0.1173\n",
      "Epoch 17/100\n",
      "133/133 [==============================] - 4s 28ms/step - loss: 2.3005 - acc: 0.1129 - val_loss: 2.3012 - val_acc: 0.1173\n",
      "Epoch 18/100\n",
      "133/133 [==============================] - 4s 32ms/step - loss: 2.3005 - acc: 0.1129 - val_loss: 2.3012 - val_acc: 0.1173\n",
      "Epoch 19/100\n",
      "133/133 [==============================] - 4s 29ms/step - loss: 2.3005 - acc: 0.1129 - val_loss: 2.3011 - val_acc: 0.1173\n",
      "Epoch 20/100\n",
      "133/133 [==============================] - 4s 29ms/step - loss: 2.3005 - acc: 0.1129 - val_loss: 2.3011 - val_acc: 0.1173\n",
      "Epoch 21/100\n",
      "133/133 [==============================] - 4s 32ms/step - loss: 2.3005 - acc: 0.1129 - val_loss: 2.3012 - val_acc: 0.1173\n",
      "Epoch 22/100\n",
      "133/133 [==============================] - 5s 36ms/step - loss: 2.3005 - acc: 0.1129 - val_loss: 2.3013 - val_acc: 0.1173\n",
      "Epoch 23/100\n",
      "133/133 [==============================] - 4s 32ms/step - loss: 2.3003 - acc: 0.1129 - val_loss: 2.3012 - val_acc: 0.1173\n",
      "Epoch 24/100\n",
      "133/133 [==============================] - 4s 29ms/step - loss: 2.3003 - acc: 0.1129 - val_loss: 2.3012 - val_acc: 0.1173\n",
      "Epoch 25/100\n",
      "133/133 [==============================] - 4s 29ms/step - loss: 2.3003 - acc: 0.1129 - val_loss: 2.3012 - val_acc: 0.1173\n",
      "Epoch 26/100\n",
      "133/133 [==============================] - 4s 32ms/step - loss: 2.3003 - acc: 0.1129 - val_loss: 2.3012 - val_acc: 0.1173\n",
      "Epoch 27/100\n",
      "133/133 [==============================] - 4s 29ms/step - loss: 2.3003 - acc: 0.1129 - val_loss: 2.3012 - val_acc: 0.1173\n",
      "Epoch 28/100\n",
      "133/133 [==============================] - 4s 29ms/step - loss: 2.3003 - acc: 0.1129 - val_loss: 2.3012 - val_acc: 0.1173\n",
      "Epoch 29/100\n",
      "133/133 [==============================] - 5s 37ms/step - loss: 2.3003 - acc: 0.1129 - val_loss: 2.3012 - val_acc: 0.1173\n",
      "Epoch 30/100\n",
      "133/133 [==============================] - 4s 32ms/step - loss: 2.3003 - acc: 0.1129 - val_loss: 2.3012 - val_acc: 0.1173\n",
      "Epoch 31/100\n",
      "133/133 [==============================] - 4s 32ms/step - loss: 2.3003 - acc: 0.1129 - val_loss: 2.3012 - val_acc: 0.1173\n",
      "Epoch 32/100\n",
      "133/133 [==============================] - 4s 29ms/step - loss: 2.3003 - acc: 0.1129 - val_loss: 2.3012 - val_acc: 0.1173\n",
      "Epoch 33/100\n",
      "133/133 [==============================] - 4s 29ms/step - loss: 2.3003 - acc: 0.1129 - val_loss: 2.3012 - val_acc: 0.1173\n",
      "Epoch 34/100\n",
      "133/133 [==============================] - 4s 32ms/step - loss: 2.3003 - acc: 0.1129 - val_loss: 2.3012 - val_acc: 0.1173\n",
      "Epoch 35/100\n",
      "133/133 [==============================] - 4s 29ms/step - loss: 2.3003 - acc: 0.1129 - val_loss: 2.3012 - val_acc: 0.1173\n",
      "Epoch 36/100\n",
      "133/133 [==============================] - 4s 29ms/step - loss: 2.3003 - acc: 0.1129 - val_loss: 2.3012 - val_acc: 0.1173\n",
      "Epoch 37/100\n",
      "133/133 [==============================] - 5s 41ms/step - loss: 2.3003 - acc: 0.1129 - val_loss: 2.3012 - val_acc: 0.1173\n",
      "Epoch 38/100\n",
      "133/133 [==============================] - 4s 29ms/step - loss: 2.3003 - acc: 0.1129 - val_loss: 2.3012 - val_acc: 0.1173\n",
      "Epoch 39/100\n",
      "133/133 [==============================] - 4s 32ms/step - loss: 2.3003 - acc: 0.1129 - val_loss: 2.3012 - val_acc: 0.1173\n",
      "Epoch 40/100\n",
      "133/133 [==============================] - 4s 29ms/step - loss: 2.3003 - acc: 0.1129 - val_loss: 2.3012 - val_acc: 0.1173\n",
      "Epoch 41/100\n",
      "133/133 [==============================] - 4s 29ms/step - loss: 2.3003 - acc: 0.1129 - val_loss: 2.3012 - val_acc: 0.1173\n",
      "Epoch 42/100\n",
      "133/133 [==============================] - 4s 34ms/step - loss: 2.3003 - acc: 0.1129 - val_loss: 2.3012 - val_acc: 0.1173\n",
      "Epoch 43/100\n",
      "133/133 [==============================] - 4s 30ms/step - loss: 2.3003 - acc: 0.1129 - val_loss: 2.3012 - val_acc: 0.1173\n",
      "Epoch 44/100\n",
      "133/133 [==============================] - 5s 34ms/step - loss: 2.3003 - acc: 0.1129 - val_loss: 2.3012 - val_acc: 0.1173\n",
      "Epoch 45/100\n",
      "133/133 [==============================] - 4s 31ms/step - loss: 2.3003 - acc: 0.1129 - val_loss: 2.3012 - val_acc: 0.1173\n",
      "Epoch 46/100\n",
      "133/133 [==============================] - 4s 28ms/step - loss: 2.3003 - acc: 0.1129 - val_loss: 2.3012 - val_acc: 0.1173\n",
      "Epoch 47/100\n",
      "133/133 [==============================] - 4s 31ms/step - loss: 2.3003 - acc: 0.1129 - val_loss: 2.3012 - val_acc: 0.1173\n",
      "Epoch 48/100\n",
      "133/133 [==============================] - 4s 28ms/step - loss: 2.3003 - acc: 0.1129 - val_loss: 2.3012 - val_acc: 0.1173\n",
      "Epoch 49/100\n",
      "133/133 [==============================] - 4s 32ms/step - loss: 2.3003 - acc: 0.1129 - val_loss: 2.3012 - val_acc: 0.1173\n",
      "Epoch 50/100\n",
      "133/133 [==============================] - 4s 28ms/step - loss: 2.3003 - acc: 0.1129 - val_loss: 2.3012 - val_acc: 0.1173\n",
      "Epoch 51/100\n",
      "133/133 [==============================] - 4s 28ms/step - loss: 2.3003 - acc: 0.1129 - val_loss: 2.3012 - val_acc: 0.1173\n",
      "Epoch 52/100\n",
      "133/133 [==============================] - 6s 41ms/step - loss: 2.3003 - acc: 0.1129 - val_loss: 2.3012 - val_acc: 0.1173\n",
      "Epoch 53/100\n",
      "133/133 [==============================] - 4s 29ms/step - loss: 2.3003 - acc: 0.1129 - val_loss: 2.3012 - val_acc: 0.1173\n",
      "Epoch 54/100\n",
      "133/133 [==============================] - 4s 28ms/step - loss: 2.3003 - acc: 0.1129 - val_loss: 2.3012 - val_acc: 0.1173\n",
      "Epoch 55/100\n",
      "133/133 [==============================] - 4s 32ms/step - loss: 2.3003 - acc: 0.1129 - val_loss: 2.3012 - val_acc: 0.1173\n",
      "Epoch 56/100\n",
      "133/133 [==============================] - 4s 29ms/step - loss: 2.3003 - acc: 0.1129 - val_loss: 2.3012 - val_acc: 0.1173\n",
      "Epoch 57/100\n",
      "133/133 [==============================] - 4s 32ms/step - loss: 2.3003 - acc: 0.1129 - val_loss: 2.3012 - val_acc: 0.1173\n",
      "Epoch 58/100\n",
      "133/133 [==============================] - 4s 29ms/step - loss: 2.3003 - acc: 0.1129 - val_loss: 2.3012 - val_acc: 0.1173\n",
      "Epoch 59/100\n",
      "133/133 [==============================] - 4s 29ms/step - loss: 2.3003 - acc: 0.1129 - val_loss: 2.3012 - val_acc: 0.1173\n",
      "Epoch 60/100\n",
      "133/133 [==============================] - 5s 36ms/step - loss: 2.3003 - acc: 0.1129 - val_loss: 2.3012 - val_acc: 0.1173\n",
      "Epoch 61/100\n",
      "133/133 [==============================] - 4s 29ms/step - loss: 2.3003 - acc: 0.1129 - val_loss: 2.3012 - val_acc: 0.1173\n",
      "Epoch 62/100\n",
      "133/133 [==============================] - 4s 32ms/step - loss: 2.3003 - acc: 0.1129 - val_loss: 2.3012 - val_acc: 0.1173\n",
      "Epoch 63/100\n",
      "133/133 [==============================] - 4s 29ms/step - loss: 2.3003 - acc: 0.1129 - val_loss: 2.3012 - val_acc: 0.1173\n",
      "Epoch 64/100\n",
      "133/133 [==============================] - 4s 29ms/step - loss: 2.3003 - acc: 0.1129 - val_loss: 2.3012 - val_acc: 0.1173\n",
      "Epoch 65/100\n",
      "133/133 [==============================] - 4s 32ms/step - loss: 2.3003 - acc: 0.1129 - val_loss: 2.3012 - val_acc: 0.1173\n",
      "Epoch 66/100\n",
      "133/133 [==============================] - 4s 28ms/step - loss: 2.3003 - acc: 0.1129 - val_loss: 2.3012 - val_acc: 0.1173\n",
      "Epoch 67/100\n",
      "133/133 [==============================] - 5s 39ms/step - loss: 2.3003 - acc: 0.1129 - val_loss: 2.3012 - val_acc: 0.1173\n",
      "Epoch 68/100\n",
      "133/133 [==============================] - 4s 28ms/step - loss: 2.3003 - acc: 0.1129 - val_loss: 2.3012 - val_acc: 0.1173\n",
      "Epoch 69/100\n",
      "133/133 [==============================] - 4s 32ms/step - loss: 2.3003 - acc: 0.1129 - val_loss: 2.3012 - val_acc: 0.1173\n",
      "Epoch 70/100\n",
      "133/133 [==============================] - 4s 29ms/step - loss: 2.3003 - acc: 0.1129 - val_loss: 2.3012 - val_acc: 0.1173\n",
      "Epoch 71/100\n",
      "133/133 [==============================] - 4s 29ms/step - loss: 2.3003 - acc: 0.1129 - val_loss: 2.3012 - val_acc: 0.1173\n",
      "Epoch 72/100\n",
      "133/133 [==============================] - 4s 32ms/step - loss: 2.3003 - acc: 0.1129 - val_loss: 2.3012 - val_acc: 0.1173\n",
      "Epoch 73/100\n",
      "133/133 [==============================] - 5s 35ms/step - loss: 2.3003 - acc: 0.1129 - val_loss: 2.3012 - val_acc: 0.1173\n",
      "Epoch 74/100\n",
      "133/133 [==============================] - 4s 33ms/step - loss: 2.3003 - acc: 0.1129 - val_loss: 2.3012 - val_acc: 0.1173\n",
      "Epoch 75/100\n",
      "133/133 [==============================] - 4s 28ms/step - loss: 2.3003 - acc: 0.1129 - val_loss: 2.3012 - val_acc: 0.1173\n",
      "Epoch 76/100\n",
      "133/133 [==============================] - 4s 29ms/step - loss: 2.3003 - acc: 0.1129 - val_loss: 2.3012 - val_acc: 0.1173\n",
      "Epoch 77/100\n",
      "133/133 [==============================] - 4s 32ms/step - loss: 2.3003 - acc: 0.1129 - val_loss: 2.3012 - val_acc: 0.1173\n",
      "Epoch 78/100\n",
      "133/133 [==============================] - 4s 29ms/step - loss: 2.3003 - acc: 0.1129 - val_loss: 2.3012 - val_acc: 0.1173\n",
      "Epoch 79/100\n",
      "133/133 [==============================] - 4s 29ms/step - loss: 2.3003 - acc: 0.1129 - val_loss: 2.3012 - val_acc: 0.1173\n",
      "Epoch 80/100\n",
      "133/133 [==============================] - 4s 32ms/step - loss: 2.3003 - acc: 0.1129 - val_loss: 2.3012 - val_acc: 0.1173\n",
      "Epoch 81/100\n",
      "133/133 [==============================] - 5s 39ms/step - loss: 2.3003 - acc: 0.1129 - val_loss: 2.3012 - val_acc: 0.1173\n",
      "Epoch 82/100\n",
      "133/133 [==============================] - 4s 32ms/step - loss: 2.3003 - acc: 0.1129 - val_loss: 2.3012 - val_acc: 0.1173\n",
      "Epoch 83/100\n",
      "133/133 [==============================] - 4s 29ms/step - loss: 2.3003 - acc: 0.1129 - val_loss: 2.3012 - val_acc: 0.1173\n",
      "Epoch 84/100\n",
      "133/133 [==============================] - 4s 29ms/step - loss: 2.3003 - acc: 0.1129 - val_loss: 2.3012 - val_acc: 0.1173\n",
      "Epoch 85/100\n",
      "133/133 [==============================] - 4s 32ms/step - loss: 2.3003 - acc: 0.1129 - val_loss: 2.3012 - val_acc: 0.1173\n",
      "Epoch 86/100\n",
      "133/133 [==============================] - 4s 29ms/step - loss: 2.3003 - acc: 0.1129 - val_loss: 2.3012 - val_acc: 0.1173\n",
      "Epoch 87/100\n",
      "133/133 [==============================] - 4s 31ms/step - loss: 2.3003 - acc: 0.1129 - val_loss: 2.3012 - val_acc: 0.1173\n",
      "Epoch 88/100\n",
      "133/133 [==============================] - 5s 34ms/step - loss: 2.3003 - acc: 0.1129 - val_loss: 2.3012 - val_acc: 0.1173\n",
      "Epoch 89/100\n",
      "133/133 [==============================] - 4s 32ms/step - loss: 2.3003 - acc: 0.1129 - val_loss: 2.3012 - val_acc: 0.1173\n",
      "Epoch 90/100\n",
      "133/133 [==============================] - 4s 31ms/step - loss: 2.3003 - acc: 0.1129 - val_loss: 2.3012 - val_acc: 0.1173\n",
      "Epoch 91/100\n",
      "133/133 [==============================] - 4s 29ms/step - loss: 2.3003 - acc: 0.1129 - val_loss: 2.3012 - val_acc: 0.1173\n",
      "Epoch 92/100\n",
      "133/133 [==============================] - 4s 32ms/step - loss: 2.3003 - acc: 0.1129 - val_loss: 2.3012 - val_acc: 0.1173\n",
      "Epoch 93/100\n",
      "133/133 [==============================] - 4s 31ms/step - loss: 2.3003 - acc: 0.1129 - val_loss: 2.3012 - val_acc: 0.1173\n",
      "Epoch 94/100\n",
      "133/133 [==============================] - 4s 29ms/step - loss: 2.3003 - acc: 0.1129 - val_loss: 2.3012 - val_acc: 0.1173\n",
      "Epoch 95/100\n",
      "133/133 [==============================] - 4s 32ms/step - loss: 2.3003 - acc: 0.1129 - val_loss: 2.3012 - val_acc: 0.1173\n",
      "Epoch 96/100\n",
      "133/133 [==============================] - 5s 39ms/step - loss: 2.3003 - acc: 0.1129 - val_loss: 2.3012 - val_acc: 0.1173\n",
      "Epoch 97/100\n",
      "133/133 [==============================] - 4s 29ms/step - loss: 2.3003 - acc: 0.1129 - val_loss: 2.3012 - val_acc: 0.1173\n",
      "Epoch 98/100\n",
      "133/133 [==============================] - 4s 32ms/step - loss: 2.3003 - acc: 0.1129 - val_loss: 2.3012 - val_acc: 0.1173\n",
      "Epoch 99/100\n",
      "133/133 [==============================] - 4s 29ms/step - loss: 2.3003 - acc: 0.1129 - val_loss: 2.3012 - val_acc: 0.1173\n",
      "Epoch 100/100\n",
      "133/133 [==============================] - 4s 32ms/step - loss: 2.3003 - acc: 0.1129 - val_loss: 2.3012 - val_acc: 0.1173\n"
     ]
    }
   ],
   "source": [
    "callbacks = myCallback()\n",
    "batch_size=5\n",
    "FAST_RUN = False\n",
    "epochs=20 if FAST_RUN else 100\n",
    "history = model0_regularized.fit_generator(\n",
    "    train_generator, \n",
    "    epochs=epochs,\n",
    "    validation_data=validation_generator,\n",
    "    callbacks=[\n",
    "        ks.callbacks.ReduceLROnPlateau()\n",
    "    ]\n",
    ")\n"
   ]
  },
  {
   "cell_type": "code",
   "execution_count": 12,
   "id": "8dd60d08",
   "metadata": {
    "execution": {
     "iopub.execute_input": "2022-09-17T10:19:23.544907Z",
     "iopub.status.busy": "2022-09-17T10:19:23.543634Z",
     "iopub.status.idle": "2022-09-17T10:19:23.800624Z",
     "shell.execute_reply": "2022-09-17T10:19:23.798888Z"
    },
    "papermill": {
     "duration": 0.959565,
     "end_time": "2022-09-17T10:19:23.803659",
     "exception": false,
     "start_time": "2022-09-17T10:19:22.844094",
     "status": "completed"
    },
    "tags": []
   },
   "outputs": [
    {
     "data": {
      "image/png": "[encoded data removed]",
      "text/plain": [
       "<Figure size 432x288 with 1 Axes>"
      ]
     },
     "metadata": {
      "needs_background": "light"
     },
     "output_type": "display_data"
    }
   ],
   "source": [
    "loss_train = history.history['loss']\n",
    "loss_val = history.history['val_loss']\n",
    "epochs = range(1,101)\n",
    "plt.plot(epochs, loss_train, 'g', label='Training loss')\n",
    "plt.plot(epochs, loss_val, 'b', label='validation loss')\n",
    "plt.title('Training and Validation loss')\n",
    "plt.xlabel('Epochs')\n",
    "plt.ylabel('Loss')\n",
    "plt.legend()\n",
    "plt.show()"
   ]
  },
  {
   "cell_type": "code",
   "execution_count": 13,
   "id": "d245dc8d",
   "metadata": {
    "execution": {
     "iopub.execute_input": "2022-09-17T10:19:25.226031Z",
     "iopub.status.busy": "2022-09-17T10:19:25.225316Z",
     "iopub.status.idle": "2022-09-17T10:19:25.460468Z",
     "shell.execute_reply": "2022-09-17T10:19:25.459125Z"
    },
    "papermill": {
     "duration": 0.910061,
     "end_time": "2022-09-17T10:19:25.463214",
     "exception": false,
     "start_time": "2022-09-17T10:19:24.553153",
     "status": "completed"
    },
    "tags": []
   },
   "outputs": [
    {
     "data": {
      "image/png": "[encoded data removed]",
      "text/plain": [
       "<Figure size 432x288 with 1 Axes>"
      ]
     },
     "metadata": {
      "needs_background": "light"
     },
     "output_type": "display_data"
    }
   ],
   "source": [
    "loss_train = history.history['loss']\n",
    "epochs = range(1,101)\n",
    "plt.plot(epochs, loss_train, 'g', label='Training loss')\n",
    "plt.title('Training loss')\n",
    "plt.xlabel('Epochs')\n",
    "plt.ylabel('Loss')\n",
    "plt.legend()\n",
    "plt.show()"
   ]
  },
  {
   "cell_type": "markdown",
   "id": "6377633c",
   "metadata": {
    "papermill": {
     "duration": 0.688699,
     "end_time": "2022-09-17T10:19:26.882320",
     "exception": false,
     "start_time": "2022-09-17T10:19:26.193621",
     "status": "completed"
    },
    "tags": []
   },
   "source": [
    "# L2 Regularization (for Machine learning)"
   ]
  },
  {
   "cell_type": "markdown",
   "id": "0df4aede",
   "metadata": {
    "papermill": {
     "duration": 0.713668,
     "end_time": "2022-09-17T10:19:28.319398",
     "exception": false,
     "start_time": "2022-09-17T10:19:27.605730",
     "status": "completed"
    },
    "tags": []
   },
   "source": [
    "A regression model that uses **L1 regularization** technique is called **Lasso Regression** and model which uses **L2** is called **Ridge Regression.**  \n",
    "The key difference between these two is the penalty term.\n",
    "Traditional methods like cross-validation, stepwise regression to handle overfitting and perform feature selection work well with a small set of features but these techniques are a great alternative when we are dealing with **a large set of features.**\n",
    "\n",
    "\n"
   ]
  },
  {
   "cell_type": "markdown",
   "id": "cb092f5f",
   "metadata": {
    "papermill": {
     "duration": 0.718204,
     "end_time": "2022-09-17T10:19:29.732341",
     "exception": false,
     "start_time": "2022-09-17T10:19:29.014137",
     "status": "completed"
    },
    "tags": []
   },
   "source": [
    "\n",
    "If you have studied the concept of regularization in machine learning, you will have a fair idea that regularization penalizes the coefficients. In deep learning, it actually penalizes the weight matrices of the nodes.\n",
    "\n",
    "Assume that our regularization coefficient is so high that some of the weight matrices are nearly equal to zero. This will result in a much simpler linear network and slight underfitting of the training data.\n",
    "\n",
    "Such a large value of the regularization coefficient is not that useful. We need to optimize the value of regularization coefficient in order to obtain a well-fitted model as shown in the image below.  \n",
    "\n",
    "**Variables standardization** is the initial procedure in ridge regression. Both the independent and dependent variables require standardization through subtraction of their averages and a division of the result with the standard deviations. It is common practice to annotate in a formula whether the variables therein are standardized or not."
   ]
  },
  {
   "cell_type": "markdown",
   "id": "ca6b72c9",
   "metadata": {
    "papermill": {
     "duration": 0.718956,
     "end_time": "2022-09-17T10:19:31.135118",
     "exception": false,
     "start_time": "2022-09-17T10:19:30.416162",
     "status": "completed"
    },
    "tags": []
   },
   "source": [
    "regularizing lamba part is in progress ..."
   ]
  },
  {
   "cell_type": "markdown",
   "id": "41a799ab",
   "metadata": {
    "papermill": {
     "duration": 0.731133,
     "end_time": "2022-09-17T10:19:32.957746",
     "exception": false,
     "start_time": "2022-09-17T10:19:32.226613",
     "status": "completed"
    },
    "tags": []
   },
   "source": [
    "To find optimum alpha for Ridge Regularization we can be applying GridSearchCV"
   ]
  }
 ],
 "metadata": {
  "kernelspec": {
   "display_name": "Python 3",
   "language": "python",
   "name": "python3"
  },
  "language_info": {
   "codemirror_mode": {
    "name": "ipython",
    "version": 3
   },
   "file_extension": ".py",
   "mimetype": "text/x-python",
   "name": "python",
   "nbconvert_exporter": "python",
   "pygments_lexer": "ipython3",
   "version": "3.7.12"
  },
  "papermill": {
   "default_parameters": {},
   "duration": 906.543677,
   "end_time": "2022-09-17T10:19:37.406617",
   "environment_variables": {},
   "exception": null,
   "input_path": "__notebook__.ipynb",
   "output_path": "__notebook__.ipynb",
   "parameters": {},
   "start_time": "2022-09-17T10:04:30.862940",
   "version": "2.3.4"
  }
 },
 "nbformat": 4,
 "nbformat_minor": 5
}
