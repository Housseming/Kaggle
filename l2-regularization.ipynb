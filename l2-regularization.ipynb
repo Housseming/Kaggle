{
 "cells": [
  {
   "cell_type": "markdown",
   "id": "968127ce",
   "metadata": {
    "execution": {
     "iopub.execute_input": "2022-09-17T08:56:24.180419Z",
     "iopub.status.busy": "2022-09-17T08:56:24.179832Z",
     "iopub.status.idle": "2022-09-17T08:56:24.214731Z",
     "shell.execute_reply": "2022-09-17T08:56:24.212199Z",
     "shell.execute_reply.started": "2022-09-17T08:56:24.180306Z"
    },
    "papermill": {
     "duration": 0.008954,
     "end_time": "2022-09-25T13:17:16.165534",
     "exception": false,
     "start_time": "2022-09-25T13:17:16.156580",
     "status": "completed"
    },
    "tags": []
   },
   "source": [
    "**In this notebook, i'm going to explain L2 regularization and show an example of CNN model being regularized** "
   ]
  },
  {
   "cell_type": "code",
   "execution_count": 1,
   "id": "147c420a",
   "metadata": {
    "execution": {
     "iopub.execute_input": "2022-09-25T13:17:16.183692Z",
     "iopub.status.busy": "2022-09-25T13:17:16.182838Z",
     "iopub.status.idle": "2022-09-25T13:17:21.735500Z",
     "shell.execute_reply": "2022-09-25T13:17:21.734208Z"
    },
    "papermill": {
     "duration": 5.564884,
     "end_time": "2022-09-25T13:17:21.738303",
     "exception": false,
     "start_time": "2022-09-25T13:17:16.173419",
     "status": "completed"
    },
    "tags": []
   },
   "outputs": [],
   "source": [
    "# This Python 3 environment comes with many helpful analytics libraries installed\n",
    "# It is defined by the kaggle/python Docker image: https://github.com/kaggle/docker-python\n",
    "# For example, here's several helpful packages to load\n",
    "\n",
    "import numpy as np # linear algebra\n",
    "import pandas as pd # data processing, CSV file I/O (e.g. pd.read_csv)\n",
    "from tensorflow import keras as ks\n",
    "import tensorflow as tf\n",
    "\n",
    "from keras.preprocessing.image import ImageDataGenerator\n",
    "from sklearn.model_selection import train_test_split\n",
    "from keras.regularizers import l2\n",
    "import matplotlib.pyplot as plt\n",
    "from sklearn.model_selection import GridSearchCV\n",
    "from keras.wrappers.scikit_learn import KerasClassifier\n",
    "import keras.optimizers\n",
    "\n",
    "# Input data files are available in the read-only \"../input/\" directory\n",
    "# For example, running this (by clicking run or pressing Shift+Enter) will list all files under the input directory\n",
    "#import os\n",
    "#for dirname, _, filenames in os.walk('/kaggle/input'):\n",
    " #   for filename in filenames:\n",
    "  #      print(os.path.join(dirname, filename))\n",
    "        \n",
    "# You can write up to 20GB to the current directory (/kaggle/working/) that gets preserved as output when you create a version using \"Save & Run All\" \n",
    "# You can also write temporary files to /kaggle/temp/, but they won't be saved outside of the current session"
   ]
  },
  {
   "cell_type": "markdown",
   "id": "90fb5758",
   "metadata": {
    "papermill": {
     "duration": 0.008621,
     "end_time": "2022-09-25T13:17:21.755779",
     "exception": false,
     "start_time": "2022-09-25T13:17:21.747158",
     "status": "completed"
    },
    "tags": []
   },
   "source": [
    "# L2 Regularization (for a CNN example)\n",
    "##### also called simply “weight decay\"\n"
   ]
  },
  {
   "cell_type": "markdown",
   "id": "cd786f79",
   "metadata": {
    "papermill": {
     "duration": 0.007499,
     "end_time": "2022-09-25T13:17:21.771487",
     "exception": false,
     "start_time": "2022-09-25T13:17:21.763988",
     "status": "completed"
    },
    "tags": []
   },
   "source": [
    "**If you suspect your neural network is overfitting your data, \n",
    "that is, you have a high variance problem, one of the first things you should try is probably regularization.**  \n",
    "\n",
    "In L2, we have:\n",
    "  \n",
    "![L2](https://i.ibb.co/b3Dp6mL/L2.png) it comes **to adding a cost** to the loss function for large weights\n",
    "\n",
    "Here, **lambda** is the regularization parameter. It is the hyperparameter whose value is optimized for better results. L2 regularization is also known as weight decay as it forces the weights to decay towards zero (but not exactly zero).  \n",
    "**By default, no regularizer is used in any layers.**\n"
   ]
  },
  {
   "cell_type": "markdown",
   "id": "b2315fe9",
   "metadata": {
    "papermill": {
     "duration": 0.008039,
     "end_time": "2022-09-25T13:17:21.788211",
     "exception": false,
     "start_time": "2022-09-25T13:17:21.780172",
     "status": "completed"
    },
    "tags": []
   },
   "source": [
    "A weight regularizer can be added to each layer when the layer is defined in a Keras model.  \n",
    "**A weight regularizer can be added to each layer when the layer is defined in a Keras model.**\n",
    "\n",
    "This is achieved by setting the kernel_regularizer argument on each layer. A separate regularizer can also be used for the bias via the bias_regularizer argument, although this is less often used.\n",
    "\n",
    "Let’s look at some examples."
   ]
  },
  {
   "cell_type": "markdown",
   "id": "a10e9ad4",
   "metadata": {
    "papermill": {
     "duration": 0.007565,
     "end_time": "2022-09-25T13:17:21.803311",
     "exception": false,
     "start_time": "2022-09-25T13:17:21.795746",
     "status": "completed"
    },
    "tags": []
   },
   "source": [
    "#### Weight Regularization for Dense Layers"
   ]
  },
  {
   "cell_type": "code",
   "execution_count": 2,
   "id": "9718e850",
   "metadata": {
    "execution": {
     "iopub.execute_input": "2022-09-25T13:17:21.820300Z",
     "iopub.status.busy": "2022-09-25T13:17:21.819712Z",
     "iopub.status.idle": "2022-09-25T13:17:21.824339Z",
     "shell.execute_reply": "2022-09-25T13:17:21.823285Z"
    },
    "papermill": {
     "duration": 0.015478,
     "end_time": "2022-09-25T13:17:21.826414",
     "exception": false,
     "start_time": "2022-09-25T13:17:21.810936",
     "status": "completed"
    },
    "tags": []
   },
   "outputs": [],
   "source": [
    "## example of l2 on a dense layer\n",
    "##from keras.layers import Dense\n",
    "##from keras.regularizers import l2\n",
    "\n",
    "##model.add(Dense(32, kernel_regularizer=l2(0.01), bias_regularizer=l2(0.01)))\n"
   ]
  },
  {
   "cell_type": "markdown",
   "id": "f2378f02",
   "metadata": {
    "papermill": {
     "duration": 0.007877,
     "end_time": "2022-09-25T13:17:21.842254",
     "exception": false,
     "start_time": "2022-09-25T13:17:21.834377",
     "status": "completed"
    },
    "tags": []
   },
   "source": [
    "kernel_regularizer: Regularizer to apply a penalty on the layer's kernel  \n",
    "bias_regularizer: Regularizer to apply a penalty on the layer's bias"
   ]
  },
  {
   "cell_type": "markdown",
   "id": "6239d145",
   "metadata": {
    "papermill": {
     "duration": 0.007855,
     "end_time": "2022-09-25T13:17:21.858209",
     "exception": false,
     "start_time": "2022-09-25T13:17:21.850354",
     "status": "completed"
    },
    "tags": []
   },
   "source": [
    "#### Weight Regularization for Convolutional Layers"
   ]
  },
  {
   "cell_type": "markdown",
   "id": "51fd7e9b",
   "metadata": {
    "papermill": {
     "duration": 0.007648,
     "end_time": "2022-09-25T13:17:21.873571",
     "exception": false,
     "start_time": "2022-09-25T13:17:21.865923",
     "status": "completed"
    },
    "tags": []
   },
   "source": [
    "\n",
    "Like the Dense layer, the Convolutional layers (e.g. Conv1D and Conv2D) also use the kernel_regularizer and bias_regularizer arguments to define a regularizer."
   ]
  },
  {
   "cell_type": "code",
   "execution_count": 3,
   "id": "677d540d",
   "metadata": {
    "execution": {
     "iopub.execute_input": "2022-09-25T13:17:21.890848Z",
     "iopub.status.busy": "2022-09-25T13:17:21.890520Z",
     "iopub.status.idle": "2022-09-25T13:17:21.895745Z",
     "shell.execute_reply": "2022-09-25T13:17:21.894935Z"
    },
    "papermill": {
     "duration": 0.01661,
     "end_time": "2022-09-25T13:17:21.897933",
     "exception": false,
     "start_time": "2022-09-25T13:17:21.881323",
     "status": "completed"
    },
    "tags": []
   },
   "outputs": [],
   "source": [
    "# example of l2 on a convolutional layer\n",
    "#from keras.layers import Conv2D\n",
    "#from keras.regularizers import l2\n",
    "\n",
    "#model.add(Conv2D(32, (3,3), kernel_regularizer=l2(0.01), bias_regularizer=l2(0.01)))"
   ]
  },
  {
   "cell_type": "markdown",
   "id": "1b65cfec",
   "metadata": {
    "papermill": {
     "duration": 0.007484,
     "end_time": "2022-09-25T13:17:21.913149",
     "exception": false,
     "start_time": "2022-09-25T13:17:21.905665",
     "status": "completed"
    },
    "tags": []
   },
   "source": [
    "#### Weight Regularization for Recurrent Layers"
   ]
  },
  {
   "cell_type": "markdown",
   "id": "72be0763",
   "metadata": {
    "papermill": {
     "duration": 0.008025,
     "end_time": "2022-09-25T13:17:21.928737",
     "exception": false,
     "start_time": "2022-09-25T13:17:21.920712",
     "status": "completed"
    },
    "tags": []
   },
   "source": [
    "Example for Recccurrent Layers :   \n",
    "LSTM layer  \n",
    "GRU layer  \n",
    "SimpleRNN layer  \n",
    "TimeDistributed layer  \n",
    "Bidirectional layer  \n",
    "ConvLSTM1D layer  \n",
    "ConvLSTM2D layer  \n",
    "ConvLSTM3D layer  \n",
    "Base RNN layer"
   ]
  },
  {
   "cell_type": "markdown",
   "id": "6e22eb7c",
   "metadata": {
    "papermill": {
     "duration": 0.007718,
     "end_time": "2022-09-25T13:17:21.944088",
     "exception": false,
     "start_time": "2022-09-25T13:17:21.936370",
     "status": "completed"
    },
    "tags": []
   },
   "source": [
    "\n",
    "Recurrent layers like the LSTM offer more flexibility in regularizing the weights.\n",
    "\n",
    "The input, recurrent, and bias weights can all be regularized separately via the kernel_regularizer, recurrent_regularizer, and bias_regularizer arguments.\n",
    "\n",
    "The example below sets an l2 regularizer on an LSTM recurrent layer:"
   ]
  },
  {
   "cell_type": "markdown",
   "id": "21ecbf1d",
   "metadata": {
    "papermill": {
     "duration": 0.007586,
     "end_time": "2022-09-25T13:17:21.959581",
     "exception": false,
     "start_time": "2022-09-25T13:17:21.951995",
     "status": "completed"
    },
    "tags": []
   },
   "source": []
  },
  {
   "cell_type": "code",
   "execution_count": 4,
   "id": "1989f717",
   "metadata": {
    "execution": {
     "iopub.execute_input": "2022-09-25T13:17:21.975998Z",
     "iopub.status.busy": "2022-09-25T13:17:21.975694Z",
     "iopub.status.idle": "2022-09-25T13:17:21.980806Z",
     "shell.execute_reply": "2022-09-25T13:17:21.980007Z"
    },
    "papermill": {
     "duration": 0.015657,
     "end_time": "2022-09-25T13:17:21.982784",
     "exception": false,
     "start_time": "2022-09-25T13:17:21.967127",
     "status": "completed"
    },
    "tags": []
   },
   "outputs": [],
   "source": [
    "# example of l2 on an lstm layer\n",
    "#from keras.layers import LSTM\n",
    "#from keras.regularizers import l2\n",
    "#model.add(LSTM(32, kernel_regularizer=l2(0.01), recurrent_regularizer=l2(0.01), bias_regularizer=l2(0.01)))"
   ]
  },
  {
   "cell_type": "markdown",
   "id": "65e728f3",
   "metadata": {
    "papermill": {
     "duration": 0.007616,
     "end_time": "2022-09-25T13:17:21.998058",
     "exception": false,
     "start_time": "2022-09-25T13:17:21.990442",
     "status": "completed"
    },
    "tags": []
   },
   "source": [
    "#### Which layers should i add L2 regularization ?"
   ]
  },
  {
   "cell_type": "markdown",
   "id": "3f45f272",
   "metadata": {
    "papermill": {
     "duration": 0.007551,
     "end_time": "2022-09-25T13:17:22.013235",
     "exception": false,
     "start_time": "2022-09-25T13:17:22.005684",
     "status": "completed"
    },
    "tags": []
   },
   "source": [
    "it seems to be an convention to add L2 regularization for each layer, as long as you didn’t set a too large weight for that."
   ]
  },
  {
   "cell_type": "markdown",
   "id": "cb92526f",
   "metadata": {
    "papermill": {
     "duration": 0.007944,
     "end_time": "2022-09-25T13:17:22.028849",
     "exception": false,
     "start_time": "2022-09-25T13:17:22.020905",
     "status": "completed"
    },
    "tags": []
   },
   "source": [
    "To increase the regularization of a model(=the effect of the L_2 penalization) one of the actions that you can do **is increasing the value of the hyperparameter.**"
   ]
  },
  {
   "cell_type": "markdown",
   "id": "5334c348",
   "metadata": {
    "papermill": {
     "duration": 0.00763,
     "end_time": "2022-09-25T13:17:22.044386",
     "exception": false,
     "start_time": "2022-09-25T13:17:22.036756",
     "status": "completed"
    },
    "tags": []
   },
   "source": [
    "### Example"
   ]
  },
  {
   "cell_type": "markdown",
   "id": "9a8b6182",
   "metadata": {
    "papermill": {
     "duration": 0.007514,
     "end_time": "2022-09-25T13:17:22.059538",
     "exception": false,
     "start_time": "2022-09-25T13:17:22.052024",
     "status": "completed"
    },
    "tags": []
   },
   "source": [
    "to be added on the dropout part ::  \n",
    "Typically there is no need to to add dropout for every layer. In most of the popular CNN structure, you may only add dropout at each (or only the last) full connected layer.\n",
    "\n",
    "Adding too much dropout for regularization will severely slow down the convergence rate, and change over-fitting to under-fitting."
   ]
  },
  {
   "cell_type": "code",
   "execution_count": 5,
   "id": "3d333428",
   "metadata": {
    "execution": {
     "iopub.execute_input": "2022-09-25T13:17:22.078179Z",
     "iopub.status.busy": "2022-09-25T13:17:22.076702Z",
     "iopub.status.idle": "2022-09-25T13:17:25.204281Z",
     "shell.execute_reply": "2022-09-25T13:17:25.203285Z"
    },
    "papermill": {
     "duration": 3.139468,
     "end_time": "2022-09-25T13:17:25.206973",
     "exception": false,
     "start_time": "2022-09-25T13:17:22.067505",
     "status": "completed"
    },
    "tags": []
   },
   "outputs": [
    {
     "name": "stderr",
     "output_type": "stream",
     "text": [
      "2022-09-25 13:17:22.423552: I tensorflow/stream_executor/cuda/cuda_gpu_executor.cc:937] successful NUMA node read from SysFS had negative value (-1), but there must be at least one NUMA node, so returning NUMA node zero\n",
      "2022-09-25 13:17:22.543300: I tensorflow/stream_executor/cuda/cuda_gpu_executor.cc:937] successful NUMA node read from SysFS had negative value (-1), but there must be at least one NUMA node, so returning NUMA node zero\n",
      "2022-09-25 13:17:22.544143: I tensorflow/stream_executor/cuda/cuda_gpu_executor.cc:937] successful NUMA node read from SysFS had negative value (-1), but there must be at least one NUMA node, so returning NUMA node zero\n",
      "2022-09-25 13:17:22.545451: I tensorflow/core/platform/cpu_feature_guard.cc:142] This TensorFlow binary is optimized with oneAPI Deep Neural Network Library (oneDNN) to use the following CPU instructions in performance-critical operations:  AVX2 AVX512F FMA\n",
      "To enable them in other operations, rebuild TensorFlow with the appropriate compiler flags.\n",
      "2022-09-25 13:17:22.553982: I tensorflow/stream_executor/cuda/cuda_gpu_executor.cc:937] successful NUMA node read from SysFS had negative value (-1), but there must be at least one NUMA node, so returning NUMA node zero\n",
      "2022-09-25 13:17:22.554835: I tensorflow/stream_executor/cuda/cuda_gpu_executor.cc:937] successful NUMA node read from SysFS had negative value (-1), but there must be at least one NUMA node, so returning NUMA node zero\n",
      "2022-09-25 13:17:22.555664: I tensorflow/stream_executor/cuda/cuda_gpu_executor.cc:937] successful NUMA node read from SysFS had negative value (-1), but there must be at least one NUMA node, so returning NUMA node zero\n",
      "2022-09-25 13:17:24.685840: I tensorflow/stream_executor/cuda/cuda_gpu_executor.cc:937] successful NUMA node read from SysFS had negative value (-1), but there must be at least one NUMA node, so returning NUMA node zero\n",
      "2022-09-25 13:17:24.686724: I tensorflow/stream_executor/cuda/cuda_gpu_executor.cc:937] successful NUMA node read from SysFS had negative value (-1), but there must be at least one NUMA node, so returning NUMA node zero\n",
      "2022-09-25 13:17:24.687428: I tensorflow/stream_executor/cuda/cuda_gpu_executor.cc:937] successful NUMA node read from SysFS had negative value (-1), but there must be at least one NUMA node, so returning NUMA node zero\n",
      "2022-09-25 13:17:24.688055: I tensorflow/core/common_runtime/gpu/gpu_device.cc:1510] Created device /job:localhost/replica:0/task:0/device:GPU:0 with 15401 MB memory:  -> device: 0, name: Tesla P100-PCIE-16GB, pci bus id: 0000:00:04.0, compute capability: 6.0\n"
     ]
    }
   ],
   "source": [
    "model0 = ks.models.Sequential()\n",
    "model0.add(ks.layers.Dense(4, input_shape=(64, 64, 1))) #units=4(we define how many outputs we want)\n",
    "model0.add(ks.layers.Dense(8, input_shape=(64, 64, 1)))\n",
    "model0.add(ks.layers.Dense(8, input_shape=(64, 64, 1)))\n",
    "model0.add(ks.layers.Conv2D(64,(3, 3), activation='relu')) \n",
    "       \n",
    "model0.add(ks.layers.MaxPooling2D(pool_size=2, strides=2))\n",
    "model0.add(ks.layers.Conv2D(128, (3, 3), activation='relu'))\n",
    "model0.add(ks.layers.MaxPooling2D(2, 2)) \n",
    "       \n",
    "model0.add(ks.layers.Conv2D(256, (3, 3), activation='relu'))\n",
    "model0.add(ks.layers.MaxPooling2D(2, 2))\n",
    "model0.add(ks.layers.Conv2D(512, (3, 3), activation='relu'))\n",
    "model0.add(ks.layers.MaxPooling2D(2, 2))\n",
    "model0.add(ks.layers.Dropout(0.2))\n",
    "model0.add(ks.layers.Flatten())\n",
    "\n",
    "model0.add(ks.layers.Dense(1024, activation='relu'))\n",
    "model0.add(ks.layers.Dense(10, activation='softmax'))\n",
    "\n",
    "model0.compile(optimizer='adam',\n",
    "              loss='sparse_categorical_crossentropy',\n",
    "              metrics=['acc'])\n"
   ]
  },
  {
   "cell_type": "code",
   "execution_count": 6,
   "id": "adae49dc",
   "metadata": {
    "execution": {
     "iopub.execute_input": "2022-09-25T13:17:25.226948Z",
     "iopub.status.busy": "2022-09-25T13:17:25.225511Z",
     "iopub.status.idle": "2022-09-25T13:17:32.769884Z",
     "shell.execute_reply": "2022-09-25T13:17:32.768919Z"
    },
    "papermill": {
     "duration": 7.556025,
     "end_time": "2022-09-25T13:17:32.772291",
     "exception": false,
     "start_time": "2022-09-25T13:17:25.216266",
     "status": "completed"
    },
    "tags": []
   },
   "outputs": [],
   "source": [
    "#This is more explained on my notebook: https://www.kaggle.com/code/houssemaminetouihri/implementation-of-cnn-s-models-and-comparison-betw#Importing-necessary-libraries\n",
    "#Reading the data\n",
    "train=pd.read_csv(\"../input/sign-recognition/Train.csv\")\n",
    "test=pd.read_csv(\"../input/sign-recognition/Test.csv\")\n",
    "#Drop ID column and define train_y , train_x , test_x\n",
    "train_y=train['Target'].astype('float32')\n",
    "train_x=train.drop(['Target','ID'],axis=1).astype('int32')\n",
    "test_x=test.drop(['ID'],axis=1).astype('int32')\n",
    "#One Hot Encoding for train_y\n",
    "train_y=ks.utils.to_categorical(train_y,10)\n",
    "#Reshape the size of images and normalize them\n",
    "train_x=train_x.values.reshape(-1,64,64,1) #.values return an array #-1:to convert it to 1-D \n",
    "train_x=train_x/255.0\n",
    "test_x=test_x.values.reshape(-1,64,64,1)\n",
    "test_x/255.0\n",
    "#split\n",
    "x_train , x_test, y_train , y_test=train_test_split(train_x, train_y , test_size=0.15)\n",
    "#Generating new images\n",
    "datagenerator = ImageDataGenerator(\n",
    "        featurewise_center=False,  # set input mean to 0 over the dataset\n",
    "        samplewise_center=False,  # set each sample mean to 0\n",
    "        featurewise_std_normalization=False,  # divide inputs by std of the dataset\n",
    "        samplewise_std_normalization=False,  # divide each input by its std\n",
    "        zca_whitening=False,  # apply ZCA whitening\n",
    "        rotation_range=10,  # randomly rotate images in the range (degrees, 0 to 180)\n",
    "        zoom_range = 0.1, # Randomly zoom image \n",
    "        width_shift_range=0.1,  # randomly shift images horizontally (fraction of total width)\n",
    "        height_shift_range=0.1,  # randomly shift images vertically (fraction of total height)\n",
    "        horizontal_flip=False,  # randomly flip images\n",
    "        vertical_flip=False)  # randomly flip images\n",
    "train_generator = datagenerator.flow(x_train,y_train,)\n",
    "validation_generator = datagenerator.flow(x_test, y_test)\n",
    "model0.compile(optimizer=ks.optimizers.Adam(),loss='categorical_crossentropy',metrics=['acc'])\n",
    "class myCallback(ks.callbacks.Callback):\n",
    "    def on_epoch_end(self, epoch, logs={}):\n",
    "        if(logs.get('acc')>0.85) and (logs.get('val_acc')>0.85):\n",
    "            print('\\n reached 84% accuarcy so stopping training')\n",
    "            self.model.stop_training = True"
   ]
  },
  {
   "cell_type": "code",
   "execution_count": 7,
   "id": "48f0b133",
   "metadata": {
    "execution": {
     "iopub.execute_input": "2022-09-25T13:17:32.789832Z",
     "iopub.status.busy": "2022-09-25T13:17:32.789543Z",
     "iopub.status.idle": "2022-09-25T13:23:23.097027Z",
     "shell.execute_reply": "2022-09-25T13:23:23.095966Z"
    },
    "papermill": {
     "duration": 350.318971,
     "end_time": "2022-09-25T13:23:23.099452",
     "exception": false,
     "start_time": "2022-09-25T13:17:32.780481",
     "status": "completed"
    },
    "tags": []
   },
   "outputs": [
    {
     "name": "stderr",
     "output_type": "stream",
     "text": [
      "/opt/conda/lib/python3.7/site-packages/keras/engine/training.py:1972: UserWarning: `Model.fit_generator` is deprecated and will be removed in a future version. Please use `Model.fit`, which supports generators.\n",
      "  warnings.warn('`Model.fit_generator` is deprecated and '\n",
      "2022-09-25 13:17:32.873511: I tensorflow/compiler/mlir/mlir_graph_optimization_pass.cc:185] None of the MLIR Optimization Passes are enabled (registered 2)\n"
     ]
    },
    {
     "name": "stdout",
     "output_type": "stream",
     "text": [
      "Epoch 1/100\n"
     ]
    },
    {
     "name": "stderr",
     "output_type": "stream",
     "text": [
      "2022-09-25 13:17:35.311329: I tensorflow/stream_executor/cuda/cuda_dnn.cc:369] Loaded cuDNN version 8005\n"
     ]
    },
    {
     "name": "stdout",
     "output_type": "stream",
     "text": [
      "133/133 [==============================] - 11s 28ms/step - loss: 1.9129 - acc: 0.2621 - val_loss: 1.2787 - val_acc: 0.4853\n",
      "Epoch 2/100\n",
      "133/133 [==============================] - 3s 23ms/step - loss: 0.9842 - acc: 0.5892 - val_loss: 0.8229 - val_acc: 0.6680\n",
      "Epoch 3/100\n",
      "133/133 [==============================] - 3s 23ms/step - loss: 0.7413 - acc: 0.7049 - val_loss: 0.6739 - val_acc: 0.7147\n",
      "Epoch 4/100\n",
      "133/133 [==============================] - 4s 31ms/step - loss: 0.6363 - acc: 0.7358 - val_loss: 0.6124 - val_acc: 0.7693\n",
      "Epoch 5/100\n",
      "133/133 [==============================] - 3s 23ms/step - loss: 0.5749 - acc: 0.7687 - val_loss: 0.5856 - val_acc: 0.7600\n",
      "Epoch 6/100\n",
      "133/133 [==============================] - 3s 23ms/step - loss: 0.5720 - acc: 0.7755 - val_loss: 0.5817 - val_acc: 0.7813\n",
      "Epoch 7/100\n",
      "133/133 [==============================] - 3s 25ms/step - loss: 0.5367 - acc: 0.7873 - val_loss: 0.5799 - val_acc: 0.7840\n",
      "Epoch 8/100\n",
      "133/133 [==============================] - 3s 24ms/step - loss: 0.5292 - acc: 0.7962 - val_loss: 0.5099 - val_acc: 0.8147\n",
      "Epoch 9/100\n",
      "133/133 [==============================] - 3s 23ms/step - loss: 0.5046 - acc: 0.8089 - val_loss: 0.5066 - val_acc: 0.8253\n",
      "Epoch 10/100\n",
      "133/133 [==============================] - 3s 23ms/step - loss: 0.4978 - acc: 0.8165 - val_loss: 0.5227 - val_acc: 0.8213\n",
      "Epoch 11/100\n",
      "133/133 [==============================] - 3s 25ms/step - loss: 0.4850 - acc: 0.8172 - val_loss: 0.5250 - val_acc: 0.8213\n",
      "Epoch 12/100\n",
      "133/133 [==============================] - 3s 23ms/step - loss: 0.4741 - acc: 0.8212 - val_loss: 0.4943 - val_acc: 0.8360\n",
      "Epoch 13/100\n",
      "133/133 [==============================] - 3s 23ms/step - loss: 0.4800 - acc: 0.8214 - val_loss: 0.4975 - val_acc: 0.8280\n",
      "Epoch 14/100\n",
      "133/133 [==============================] - 4s 31ms/step - loss: 0.4885 - acc: 0.8209 - val_loss: 0.5630 - val_acc: 0.8227\n",
      "Epoch 15/100\n",
      "133/133 [==============================] - 3s 23ms/step - loss: 0.5037 - acc: 0.8104 - val_loss: 0.5204 - val_acc: 0.8213\n",
      "Epoch 16/100\n",
      "133/133 [==============================] - 3s 23ms/step - loss: 0.4666 - acc: 0.8264 - val_loss: 0.5084 - val_acc: 0.8213\n",
      "Epoch 17/100\n",
      "133/133 [==============================] - 3s 26ms/step - loss: 0.4591 - acc: 0.8238 - val_loss: 0.5050 - val_acc: 0.8080\n",
      "Epoch 18/100\n",
      "133/133 [==============================] - 3s 23ms/step - loss: 0.4543 - acc: 0.8259 - val_loss: 0.4874 - val_acc: 0.8360\n",
      "Epoch 19/100\n",
      "133/133 [==============================] - 3s 23ms/step - loss: 0.4519 - acc: 0.8339 - val_loss: 0.4858 - val_acc: 0.8427\n",
      "Epoch 20/100\n",
      "133/133 [==============================] - 4s 27ms/step - loss: 0.4522 - acc: 0.8318 - val_loss: 0.5078 - val_acc: 0.8267\n",
      "Epoch 21/100\n",
      "133/133 [==============================] - 3s 24ms/step - loss: 0.4462 - acc: 0.8311 - val_loss: 0.4730 - val_acc: 0.8440\n",
      "Epoch 22/100\n",
      "133/133 [==============================] - 4s 28ms/step - loss: 0.4446 - acc: 0.8332 - val_loss: 0.5578 - val_acc: 0.8027\n",
      "Epoch 23/100\n",
      "133/133 [==============================] - 3s 26ms/step - loss: 0.4471 - acc: 0.8308 - val_loss: 0.5255 - val_acc: 0.8133\n",
      "Epoch 24/100\n",
      "133/133 [==============================] - 3s 23ms/step - loss: 0.4446 - acc: 0.8332 - val_loss: 0.5020 - val_acc: 0.8333\n",
      "Epoch 25/100\n",
      "133/133 [==============================] - 3s 23ms/step - loss: 0.4312 - acc: 0.8344 - val_loss: 0.4955 - val_acc: 0.8360\n",
      "Epoch 26/100\n",
      "133/133 [==============================] - 3s 25ms/step - loss: 0.4311 - acc: 0.8393 - val_loss: 0.5037 - val_acc: 0.8187\n",
      "Epoch 27/100\n",
      "133/133 [==============================] - 3s 23ms/step - loss: 0.4315 - acc: 0.8336 - val_loss: 0.4786 - val_acc: 0.8360\n",
      "Epoch 28/100\n",
      "133/133 [==============================] - 3s 23ms/step - loss: 0.4314 - acc: 0.8344 - val_loss: 0.5047 - val_acc: 0.8267\n",
      "Epoch 29/100\n",
      "133/133 [==============================] - 3s 23ms/step - loss: 0.4192 - acc: 0.8384 - val_loss: 0.4739 - val_acc: 0.8387\n",
      "Epoch 30/100\n",
      "133/133 [==============================] - 3s 25ms/step - loss: 0.4343 - acc: 0.8336 - val_loss: 0.5438 - val_acc: 0.8307\n",
      "Epoch 31/100\n",
      "133/133 [==============================] - 3s 23ms/step - loss: 0.4140 - acc: 0.8400 - val_loss: 0.5306 - val_acc: 0.8253\n",
      "Epoch 32/100\n",
      "133/133 [==============================] - 4s 28ms/step - loss: 0.3980 - acc: 0.8452 - val_loss: 0.4795 - val_acc: 0.8387\n",
      "Epoch 33/100\n",
      "133/133 [==============================] - 3s 26ms/step - loss: 0.3779 - acc: 0.8480 - val_loss: 0.4834 - val_acc: 0.8387\n",
      "Epoch 34/100\n",
      "133/133 [==============================] - 3s 23ms/step - loss: 0.3690 - acc: 0.8506 - val_loss: 0.4990 - val_acc: 0.8387\n",
      "Epoch 35/100\n",
      "133/133 [==============================] - 3s 23ms/step - loss: 0.3630 - acc: 0.8551 - val_loss: 0.5035 - val_acc: 0.8320\n",
      "Epoch 36/100\n",
      "133/133 [==============================] - 3s 25ms/step - loss: 0.3564 - acc: 0.8548 - val_loss: 0.4819 - val_acc: 0.8413\n",
      "Epoch 37/100\n",
      "133/133 [==============================] - 3s 23ms/step - loss: 0.3621 - acc: 0.8536 - val_loss: 0.4936 - val_acc: 0.8373\n",
      "Epoch 38/100\n",
      "133/133 [==============================] - 3s 23ms/step - loss: 0.3497 - acc: 0.8567 - val_loss: 0.5187 - val_acc: 0.8360\n",
      "Epoch 39/100\n",
      "133/133 [==============================] - 3s 23ms/step - loss: 0.3570 - acc: 0.8602 - val_loss: 0.5153 - val_acc: 0.8280\n",
      "Epoch 40/100\n",
      "133/133 [==============================] - 3s 25ms/step - loss: 0.3526 - acc: 0.8581 - val_loss: 0.5194 - val_acc: 0.8200\n",
      "Epoch 41/100\n",
      "133/133 [==============================] - 3s 26ms/step - loss: 0.3493 - acc: 0.8605 - val_loss: 0.5137 - val_acc: 0.8387\n",
      "Epoch 42/100\n",
      "133/133 [==============================] - 3s 24ms/step - loss: 0.3458 - acc: 0.8558 - val_loss: 0.5254 - val_acc: 0.8320\n",
      "Epoch 43/100\n",
      "133/133 [==============================] - 3s 23ms/step - loss: 0.3361 - acc: 0.8605 - val_loss: 0.5290 - val_acc: 0.8333\n",
      "Epoch 44/100\n",
      "133/133 [==============================] - 3s 23ms/step - loss: 0.3354 - acc: 0.8640 - val_loss: 0.5166 - val_acc: 0.8360\n",
      "Epoch 45/100\n",
      "133/133 [==============================] - 3s 25ms/step - loss: 0.3380 - acc: 0.8567 - val_loss: 0.5198 - val_acc: 0.8320\n",
      "Epoch 46/100\n",
      "133/133 [==============================] - 3s 23ms/step - loss: 0.3404 - acc: 0.8558 - val_loss: 0.5006 - val_acc: 0.8240\n",
      "Epoch 47/100\n",
      "133/133 [==============================] - 3s 23ms/step - loss: 0.3423 - acc: 0.8600 - val_loss: 0.5410 - val_acc: 0.8307\n",
      "Epoch 48/100\n",
      "133/133 [==============================] - 3s 25ms/step - loss: 0.3476 - acc: 0.8572 - val_loss: 0.5384 - val_acc: 0.8333\n",
      "Epoch 49/100\n",
      "133/133 [==============================] - 3s 24ms/step - loss: 0.3325 - acc: 0.8638 - val_loss: 0.5195 - val_acc: 0.8373\n",
      "Epoch 50/100\n",
      "133/133 [==============================] - 3s 23ms/step - loss: 0.3375 - acc: 0.8649 - val_loss: 0.5347 - val_acc: 0.8253\n",
      "Epoch 51/100\n",
      "133/133 [==============================] - 3s 25ms/step - loss: 0.3385 - acc: 0.8602 - val_loss: 0.5300 - val_acc: 0.8280\n",
      "Epoch 52/100\n",
      "133/133 [==============================] - 3s 23ms/step - loss: 0.3327 - acc: 0.8631 - val_loss: 0.5164 - val_acc: 0.8267\n",
      "Epoch 53/100\n",
      "133/133 [==============================] - 3s 23ms/step - loss: 0.3283 - acc: 0.8616 - val_loss: 0.5122 - val_acc: 0.8373\n",
      "Epoch 54/100\n",
      "133/133 [==============================] - 3s 23ms/step - loss: 0.3324 - acc: 0.8628 - val_loss: 0.5209 - val_acc: 0.8333\n",
      "Epoch 55/100\n",
      "133/133 [==============================] - 3s 25ms/step - loss: 0.3320 - acc: 0.8633 - val_loss: 0.5219 - val_acc: 0.8387\n",
      "Epoch 56/100\n",
      "133/133 [==============================] - 3s 23ms/step - loss: 0.3329 - acc: 0.8654 - val_loss: 0.5125 - val_acc: 0.8373\n",
      "Epoch 57/100\n",
      "133/133 [==============================] - 3s 23ms/step - loss: 0.3362 - acc: 0.8631 - val_loss: 0.5278 - val_acc: 0.8280\n",
      "Epoch 58/100\n",
      "133/133 [==============================] - 3s 26ms/step - loss: 0.3354 - acc: 0.8624 - val_loss: 0.5281 - val_acc: 0.8387\n",
      "Epoch 59/100\n",
      "133/133 [==============================] - 4s 28ms/step - loss: 0.3371 - acc: 0.8626 - val_loss: 0.5395 - val_acc: 0.8200\n",
      "Epoch 60/100\n",
      "133/133 [==============================] - 3s 25ms/step - loss: 0.3339 - acc: 0.8626 - val_loss: 0.5284 - val_acc: 0.8400\n",
      "Epoch 61/100\n",
      "133/133 [==============================] - 3s 25ms/step - loss: 0.3386 - acc: 0.8628 - val_loss: 0.5253 - val_acc: 0.8360\n",
      "Epoch 62/100\n",
      "133/133 [==============================] - 3s 23ms/step - loss: 0.3332 - acc: 0.8631 - val_loss: 0.5354 - val_acc: 0.8360\n",
      "Epoch 63/100\n",
      "133/133 [==============================] - 3s 23ms/step - loss: 0.3357 - acc: 0.8595 - val_loss: 0.5069 - val_acc: 0.8307\n",
      "Epoch 64/100\n",
      "133/133 [==============================] - 3s 26ms/step - loss: 0.3355 - acc: 0.8628 - val_loss: 0.5152 - val_acc: 0.8373\n",
      "Epoch 65/100\n",
      "133/133 [==============================] - 3s 23ms/step - loss: 0.3386 - acc: 0.8609 - val_loss: 0.5045 - val_acc: 0.8373\n",
      "Epoch 66/100\n",
      "133/133 [==============================] - 3s 23ms/step - loss: 0.3406 - acc: 0.8593 - val_loss: 0.5271 - val_acc: 0.8387\n",
      "Epoch 67/100\n",
      "133/133 [==============================] - 3s 23ms/step - loss: 0.3312 - acc: 0.8638 - val_loss: 0.5208 - val_acc: 0.8387\n",
      "Epoch 68/100\n",
      "133/133 [==============================] - 4s 31ms/step - loss: 0.3347 - acc: 0.8619 - val_loss: 0.5199 - val_acc: 0.8333\n",
      "Epoch 69/100\n",
      "133/133 [==============================] - 3s 24ms/step - loss: 0.3328 - acc: 0.8612 - val_loss: 0.5298 - val_acc: 0.8307\n",
      "Epoch 70/100\n",
      "133/133 [==============================] - 3s 23ms/step - loss: 0.3319 - acc: 0.8678 - val_loss: 0.5345 - val_acc: 0.8213\n",
      "Epoch 71/100\n",
      "133/133 [==============================] - 3s 25ms/step - loss: 0.3399 - acc: 0.8609 - val_loss: 0.5084 - val_acc: 0.8347\n",
      "Epoch 72/100\n",
      "133/133 [==============================] - 3s 23ms/step - loss: 0.3360 - acc: 0.8628 - val_loss: 0.5260 - val_acc: 0.8333\n",
      "Epoch 73/100\n",
      "133/133 [==============================] - 3s 23ms/step - loss: 0.3383 - acc: 0.8612 - val_loss: 0.5404 - val_acc: 0.8360\n",
      "Epoch 74/100\n",
      "133/133 [==============================] - 3s 25ms/step - loss: 0.3279 - acc: 0.8689 - val_loss: 0.5063 - val_acc: 0.8307\n",
      "Epoch 75/100\n",
      "133/133 [==============================] - 3s 23ms/step - loss: 0.3410 - acc: 0.8598 - val_loss: 0.5301 - val_acc: 0.8387\n",
      "Epoch 76/100\n",
      "133/133 [==============================] - 3s 23ms/step - loss: 0.3368 - acc: 0.8616 - val_loss: 0.5258 - val_acc: 0.8293\n",
      "Epoch 77/100\n",
      "133/133 [==============================] - 3s 23ms/step - loss: 0.3331 - acc: 0.8631 - val_loss: 0.5051 - val_acc: 0.8360\n",
      "Epoch 78/100\n",
      "133/133 [==============================] - 4s 32ms/step - loss: 0.3386 - acc: 0.8607 - val_loss: 0.5389 - val_acc: 0.8320\n",
      "Epoch 79/100\n",
      "133/133 [==============================] - 3s 23ms/step - loss: 0.3368 - acc: 0.8612 - val_loss: 0.5183 - val_acc: 0.8293\n",
      "Epoch 80/100\n",
      "133/133 [==============================] - 3s 23ms/step - loss: 0.3347 - acc: 0.8626 - val_loss: 0.5217 - val_acc: 0.8293\n",
      "Epoch 81/100\n",
      "133/133 [==============================] - 3s 26ms/step - loss: 0.3325 - acc: 0.8631 - val_loss: 0.5315 - val_acc: 0.8240\n",
      "Epoch 82/100\n",
      "133/133 [==============================] - 3s 23ms/step - loss: 0.3390 - acc: 0.8572 - val_loss: 0.5356 - val_acc: 0.8293\n",
      "Epoch 83/100\n",
      "133/133 [==============================] - 3s 23ms/step - loss: 0.3399 - acc: 0.8602 - val_loss: 0.5374 - val_acc: 0.8293\n",
      "Epoch 84/100\n",
      "133/133 [==============================] - 3s 23ms/step - loss: 0.3351 - acc: 0.8631 - val_loss: 0.5247 - val_acc: 0.8427\n",
      "Epoch 85/100\n",
      "133/133 [==============================] - 3s 23ms/step - loss: 0.3371 - acc: 0.8576 - val_loss: 0.5268 - val_acc: 0.8280\n",
      "Epoch 86/100\n",
      "133/133 [==============================] - 3s 23ms/step - loss: 0.3360 - acc: 0.8605 - val_loss: 0.5143 - val_acc: 0.8320\n",
      "Epoch 87/100\n",
      "133/133 [==============================] - 4s 32ms/step - loss: 0.3411 - acc: 0.8614 - val_loss: 0.5249 - val_acc: 0.8347\n",
      "Epoch 88/100\n",
      "133/133 [==============================] - 3s 23ms/step - loss: 0.3297 - acc: 0.8661 - val_loss: 0.5188 - val_acc: 0.8373\n",
      "Epoch 89/100\n",
      "133/133 [==============================] - 3s 23ms/step - loss: 0.3339 - acc: 0.8609 - val_loss: 0.5379 - val_acc: 0.8280\n",
      "Epoch 90/100\n",
      "133/133 [==============================] - 3s 23ms/step - loss: 0.3411 - acc: 0.8595 - val_loss: 0.5322 - val_acc: 0.8387\n",
      "Epoch 91/100\n",
      "133/133 [==============================] - 3s 25ms/step - loss: 0.3332 - acc: 0.8628 - val_loss: 0.5096 - val_acc: 0.8253\n",
      "Epoch 92/100\n",
      "133/133 [==============================] - 3s 23ms/step - loss: 0.3351 - acc: 0.8656 - val_loss: 0.5093 - val_acc: 0.8360\n",
      "Epoch 93/100\n",
      "133/133 [==============================] - 3s 23ms/step - loss: 0.3367 - acc: 0.8612 - val_loss: 0.5234 - val_acc: 0.8400\n",
      "Epoch 94/100\n",
      "133/133 [==============================] - 3s 26ms/step - loss: 0.3358 - acc: 0.8631 - val_loss: 0.5013 - val_acc: 0.8293\n",
      "Epoch 95/100\n",
      "133/133 [==============================] - 3s 23ms/step - loss: 0.3362 - acc: 0.8595 - val_loss: 0.5102 - val_acc: 0.8333\n",
      "Epoch 96/100\n",
      "133/133 [==============================] - 3s 26ms/step - loss: 0.3401 - acc: 0.8631 - val_loss: 0.5203 - val_acc: 0.8320\n",
      "Epoch 97/100\n",
      "133/133 [==============================] - 3s 25ms/step - loss: 0.3359 - acc: 0.8609 - val_loss: 0.5255 - val_acc: 0.8413\n",
      "Epoch 98/100\n",
      "133/133 [==============================] - 3s 23ms/step - loss: 0.3347 - acc: 0.8626 - val_loss: 0.5271 - val_acc: 0.8307\n",
      "Epoch 99/100\n",
      "133/133 [==============================] - 3s 23ms/step - loss: 0.3395 - acc: 0.8569 - val_loss: 0.5234 - val_acc: 0.8333\n",
      "Epoch 100/100\n",
      "133/133 [==============================] - 3s 25ms/step - loss: 0.3404 - acc: 0.8631 - val_loss: 0.5363 - val_acc: 0.8267\n"
     ]
    }
   ],
   "source": [
    "callbacks = myCallback()\n",
    "batch_size=5\n",
    "FAST_RUN = False\n",
    "epochs=20 if FAST_RUN else 100\n",
    "history = model0.fit_generator(\n",
    "    train_generator, \n",
    "    epochs=epochs,\n",
    "    validation_data=validation_generator,\n",
    "    callbacks=[\n",
    "        ks.callbacks.ReduceLROnPlateau(), \n",
    "        callbacks])\n"
   ]
  },
  {
   "cell_type": "code",
   "execution_count": 8,
   "id": "4c9ff593",
   "metadata": {
    "execution": {
     "iopub.execute_input": "2022-09-25T13:23:23.622338Z",
     "iopub.status.busy": "2022-09-25T13:23:23.621307Z",
     "iopub.status.idle": "2022-09-25T13:23:23.858744Z",
     "shell.execute_reply": "2022-09-25T13:23:23.857771Z"
    },
    "papermill": {
     "duration": 0.499131,
     "end_time": "2022-09-25T13:23:23.860927",
     "exception": false,
     "start_time": "2022-09-25T13:23:23.361796",
     "status": "completed"
    },
    "tags": []
   },
   "outputs": [
    {
     "data": {
      "image/png": "[encoded data removed]",
      "text/plain": [
       "<Figure size 432x288 with 1 Axes>"
      ]
     },
     "metadata": {
      "needs_background": "light"
     },
     "output_type": "display_data"
    }
   ],
   "source": [
    "loss_train = history.history['loss']\n",
    "loss_val = history.history['val_loss']\n",
    "epochs = range(1,101)\n",
    "plt.plot(epochs, loss_train, 'g', label='Training loss')\n",
    "plt.plot(epochs, loss_val, 'b', label='validation loss')\n",
    "plt.title('Training and Validation loss')\n",
    "plt.xlabel('Epochs')\n",
    "plt.ylabel('Loss')\n",
    "plt.legend()\n",
    "plt.show()"
   ]
  },
  {
   "cell_type": "code",
   "execution_count": 9,
   "id": "e96c89b5",
   "metadata": {
    "execution": {
     "iopub.execute_input": "2022-09-25T13:23:24.416735Z",
     "iopub.status.busy": "2022-09-25T13:23:24.416024Z",
     "iopub.status.idle": "2022-09-25T13:23:24.422665Z",
     "shell.execute_reply": "2022-09-25T13:23:24.421751Z"
    },
    "papermill": {
     "duration": 0.261735,
     "end_time": "2022-09-25T13:23:24.425228",
     "exception": false,
     "start_time": "2022-09-25T13:23:24.163493",
     "status": "completed"
    },
    "tags": []
   },
   "outputs": [
    {
     "data": {
      "text/plain": [
       "0.3278793692588806"
      ]
     },
     "execution_count": 9,
     "metadata": {},
     "output_type": "execute_result"
    }
   ],
   "source": [
    "min(loss_train)"
   ]
  },
  {
   "cell_type": "code",
   "execution_count": 10,
   "id": "a4fb5a89",
   "metadata": {
    "execution": {
     "iopub.execute_input": "2022-09-25T13:23:24.941680Z",
     "iopub.status.busy": "2022-09-25T13:23:24.941324Z",
     "iopub.status.idle": "2022-09-25T13:23:24.947598Z",
     "shell.execute_reply": "2022-09-25T13:23:24.946617Z"
    },
    "papermill": {
     "duration": 0.274735,
     "end_time": "2022-09-25T13:23:24.949968",
     "exception": false,
     "start_time": "2022-09-25T13:23:24.675233",
     "status": "completed"
    },
    "tags": []
   },
   "outputs": [
    {
     "data": {
      "text/plain": [
       "0.47298672795295715"
      ]
     },
     "execution_count": 10,
     "metadata": {},
     "output_type": "execute_result"
    }
   ],
   "source": [
    "min(loss_val)"
   ]
  },
  {
   "cell_type": "markdown",
   "id": "3721b3d8",
   "metadata": {
    "papermill": {
     "duration": 0.256672,
     "end_time": "2022-09-25T13:23:25.473356",
     "exception": false,
     "start_time": "2022-09-25T13:23:25.216684",
     "status": "completed"
    },
    "tags": []
   },
   "source": [
    "# Which optimizer should i use "
   ]
  },
  {
   "cell_type": "markdown",
   "id": "142edb3e",
   "metadata": {
    "papermill": {
     "duration": 0.299286,
     "end_time": "2022-09-25T13:23:26.032449",
     "exception": false,
     "start_time": "2022-09-25T13:23:25.733163",
     "status": "completed"
    },
    "tags": []
   },
   "source": [
    "https://machinelearningmastery.com/grid-search-hyperparameters-deep-learning-models-python-keras/"
   ]
  },
  {
   "cell_type": "code",
   "execution_count": 11,
   "id": "7748d8a8",
   "metadata": {
    "execution": {
     "iopub.execute_input": "2022-09-25T13:23:26.544134Z",
     "iopub.status.busy": "2022-09-25T13:23:26.543704Z",
     "iopub.status.idle": "2022-09-25T13:23:26.550175Z",
     "shell.execute_reply": "2022-09-25T13:23:26.549179Z"
    },
    "papermill": {
     "duration": 0.265963,
     "end_time": "2022-09-25T13:23:26.552913",
     "exception": false,
     "start_time": "2022-09-25T13:23:26.286950",
     "status": "completed"
    },
    "tags": []
   },
   "outputs": [
    {
     "name": "stdout",
     "output_type": "stream",
     "text": [
      "Virtual devices cannot be modified after being initialized\n"
     ]
    }
   ],
   "source": [
    "gpus = tf.config.experimental.list_physical_devices('GPU')\n",
    "if gpus:\n",
    "    try:tf.config.experimental.set_virtual_device_configuration(\n",
    "    \n",
    "        gpus[0],[tf.config.experimental.VirtualDeviceConfiguration(memory_limit=5120)])\n",
    "    except RuntimeError as e:\n",
    "        print(e)"
   ]
  },
  {
   "cell_type": "markdown",
   "id": "c27830ba",
   "metadata": {
    "papermill": {
     "duration": 0.25618,
     "end_time": "2022-09-25T13:23:27.059109",
     "exception": false,
     "start_time": "2022-09-25T13:23:26.802929",
     "status": "completed"
    },
    "tags": []
   },
   "source": [
    "A MUST BE : n_jobs=1 not -1"
   ]
  },
  {
   "cell_type": "code",
   "execution_count": 12,
   "id": "2606b5fb",
   "metadata": {
    "execution": {
     "iopub.execute_input": "2022-09-25T13:23:27.633336Z",
     "iopub.status.busy": "2022-09-25T13:23:27.632966Z",
     "iopub.status.idle": "2022-09-25T13:31:15.558550Z",
     "shell.execute_reply": "2022-09-25T13:31:15.557363Z"
    },
    "papermill": {
     "duration": 468.182949,
     "end_time": "2022-09-25T13:31:15.562186",
     "exception": false,
     "start_time": "2022-09-25T13:23:27.379237",
     "status": "completed"
    },
    "tags": []
   },
   "outputs": [
    {
     "name": "stdout",
     "output_type": "stream",
     "text": [
      "dict_keys(['epochs', 'batch_size', 'verbose', 'build_fn'])\n"
     ]
    }
   ],
   "source": [
    "# create model\n",
    "def getmodel(optimizer):\n",
    "    \n",
    "    model0 = ks.models.Sequential()\n",
    "    model0.add(ks.layers.Dense(4, input_shape=(64, 64, 1))) #units=4(we define how many outputs we want)\n",
    "    model0.add(ks.layers.Dense(8, input_shape=(64, 64, 1)))\n",
    "    model0.add(ks.layers.Dense(8, input_shape=(64, 64, 1)))\n",
    "    model0.add(ks.layers.Conv2D(64,(3, 3), activation='relu')) \n",
    "       \n",
    "    model0.add(ks.layers.MaxPooling2D(pool_size=2, strides=2))\n",
    "    model0.add(ks.layers.Conv2D(128, (3, 3), activation='relu'))\n",
    "    model0.add(ks.layers.MaxPooling2D(2, 2)) \n",
    "       \n",
    "    model0.add(ks.layers.Conv2D(256, (3, 3), activation='relu'))\n",
    "    model0.add(ks.layers.MaxPooling2D(2, 2))\n",
    "    model0.add(ks.layers.Conv2D(512, (3, 3), activation='relu'))\n",
    "    model0.add(ks.layers.MaxPooling2D(2, 2))\n",
    "    model0.add(ks.layers.Dropout(0.2))\n",
    "    model0.add(ks.layers.Flatten())\n",
    "\n",
    "    model0.add(ks.layers.Dense(1024, activation='relu'))\n",
    "    model0.add(ks.layers.Dense(10, activation='softmax'))\n",
    "    model0.compile(optimizer=optimizer,loss='categorical_crossentropy',metrics=['acc'])\n",
    "    return model0\n",
    "\n",
    "\n",
    "\n",
    "\n",
    "\n",
    "\n",
    "callbacks = myCallback()\n",
    "batch_size=5\n",
    "epochs=20\n",
    "#create model\n",
    "model = KerasClassifier(build_fn=getmodel , epochs = epochs, batch_size=batch_size , verbose=0)\n",
    "print(model.get_params().keys())\n",
    "\n",
    "# define the grid search parameters\n",
    "optimizer = ['SGD', 'Adam']\n",
    "param_grid = dict(optimizer=optimizer)\n",
    "grid = GridSearchCV(estimator=model, param_grid = param_grid , n_jobs=1, cv=3)\n",
    "grid_result = grid.fit(train_x,train_y) #naateha ken train zaama?"
   ]
  },
  {
   "cell_type": "code",
   "execution_count": 13,
   "id": "5cfbd66b",
   "metadata": {
    "execution": {
     "iopub.execute_input": "2022-09-25T13:31:16.128516Z",
     "iopub.status.busy": "2022-09-25T13:31:16.127797Z",
     "iopub.status.idle": "2022-09-25T13:31:16.134426Z",
     "shell.execute_reply": "2022-09-25T13:31:16.133354Z"
    },
    "papermill": {
     "duration": 0.263394,
     "end_time": "2022-09-25T13:31:16.138513",
     "exception": false,
     "start_time": "2022-09-25T13:31:15.875119",
     "status": "completed"
    },
    "tags": []
   },
   "outputs": [
    {
     "name": "stdout",
     "output_type": "stream",
     "text": [
      "Best: 0.746201 using {'optimizer': 'SGD'}\n",
      "0.746201 (0.009313) with: {'optimizer': 'SGD'}\n",
      "0.332289 (0.313831) with: {'optimizer': 'Adam'}\n"
     ]
    }
   ],
   "source": [
    "# summarize results\n",
    "print(\"Best: %f using %s\" % (grid_result.best_score_, grid_result.best_params_))\n",
    "means = grid_result.cv_results_['mean_test_score']\n",
    "stds = grid_result.cv_results_['std_test_score']\n",
    "params = grid_result.cv_results_['params']\n",
    "for mean, stdev, param in zip(means, stds, params):\n",
    "    print(\"%f (%f) with: %r\" % (mean, stdev, param))"
   ]
  },
  {
   "cell_type": "code",
   "execution_count": 14,
   "id": "98d37659",
   "metadata": {
    "execution": {
     "iopub.execute_input": "2022-09-25T13:31:16.682902Z",
     "iopub.status.busy": "2022-09-25T13:31:16.682526Z",
     "iopub.status.idle": "2022-09-25T13:31:16.689124Z",
     "shell.execute_reply": "2022-09-25T13:31:16.688192Z"
    },
    "papermill": {
     "duration": 0.302606,
     "end_time": "2022-09-25T13:31:16.692047",
     "exception": false,
     "start_time": "2022-09-25T13:31:16.389441",
     "status": "completed"
    },
    "tags": []
   },
   "outputs": [
    {
     "name": "stdout",
     "output_type": "stream",
     "text": [
      "Best: 0.746201 using {'optimizer': 'SGD'}\n",
      "0.746201 (0.009313) with: {'optimizer': 'SGD'}\n",
      "0.332289 (0.313831) with: {'optimizer': 'Adam'}\n"
     ]
    }
   ],
   "source": [
    "# summarize results\n",
    "print(\"Best: %f using %s\" % (grid_result.best_score_, grid_result.best_params_))\n",
    "means = grid_result.cv_results_['mean_test_score']\n",
    "stds = grid_result.cv_results_['std_test_score']\n",
    "params = grid_result.cv_results_['params']\n",
    "for mean, stdev, param in zip(means, stds, params):\n",
    "    print(\"%f (%f) with: %r\" % (mean, stdev, param))"
   ]
  },
  {
   "cell_type": "markdown",
   "id": "db8b9e69",
   "metadata": {
    "papermill": {
     "duration": 0.260611,
     "end_time": "2022-09-25T13:31:17.203853",
     "exception": false,
     "start_time": "2022-09-25T13:31:16.943242",
     "status": "completed"
    },
    "tags": []
   },
   "source": [
    "# Using L2 "
   ]
  },
  {
   "cell_type": "code",
   "execution_count": 15,
   "id": "e21b48bb",
   "metadata": {
    "execution": {
     "iopub.execute_input": "2022-09-25T13:31:17.703123Z",
     "iopub.status.busy": "2022-09-25T13:31:17.702011Z",
     "iopub.status.idle": "2022-09-25T13:31:17.826247Z",
     "shell.execute_reply": "2022-09-25T13:31:17.825297Z"
    },
    "papermill": {
     "duration": 0.374791,
     "end_time": "2022-09-25T13:31:17.828628",
     "exception": false,
     "start_time": "2022-09-25T13:31:17.453837",
     "status": "completed"
    },
    "tags": []
   },
   "outputs": [],
   "source": [
    "model0_regularized = ks.models.Sequential()\n",
    "model0_regularized.add(ks.layers.Dense(4, input_shape=(64, 64, 1), kernel_regularizer=l2(0.01), bias_regularizer=l2(0.01))) #units=4(we define how many outputs we want)\n",
    "model0_regularized.add(ks.layers.Dense(8, input_shape=(64, 64, 1), kernel_regularizer=l2(0.01), bias_regularizer=l2(0.01)))\n",
    "model0_regularized.add(ks.layers.Dense(8, input_shape=(64, 64, 1), kernel_regularizer=l2(0.01), bias_regularizer=l2(0.01)))\n",
    "model0_regularized.add(ks.layers.Conv2D(64,(3, 3), activation='relu', kernel_regularizer=l2(0.01), bias_regularizer=l2(0.01))) \n",
    "\n",
    "model0_regularized.add(ks.layers.MaxPooling2D(pool_size=2, strides=2))\n",
    "model0_regularized.add(ks.layers.Conv2D(128, (3, 3), activation='relu', kernel_regularizer=l2(0.01), bias_regularizer=l2(0.01)))\n",
    "model0_regularized.add(ks.layers.MaxPooling2D((2, 2))) \n",
    "       \n",
    "model0_regularized.add(ks.layers.Conv2D(256, (3, 3), activation='relu', kernel_regularizer=l2(0.01), bias_regularizer=l2(0.01)))\n",
    "model0_regularized.add(ks.layers.MaxPooling2D(2, 2))\n",
    "model0_regularized.add(ks.layers.Conv2D(512, (3, 3), activation='relu'))\n",
    "model0_regularized.add(ks.layers.MaxPooling2D(2, 2))\n",
    "model0_regularized.add(ks.layers.Dropout(0.2))\n",
    "model0_regularized.add(ks.layers.Flatten())\n",
    "\n",
    "model0_regularized.add(ks.layers.Dense(1024, activation='relu', kernel_regularizer=l2(0.01) , bias_regularizer=l2(0.01)))\n",
    "model0_regularized.add(ks.layers.Dense(10, activation='softmax', kernel_regularizer=l2(0.01) ,  bias_regularizer=l2(0.01)))\n",
    "#i'm not sure about flatten maxpooling2d\n",
    "\n",
    "model0_regularized.compile(optimizer='adam',\n",
    "              loss='sparse_categorical_crossentropy',\n",
    "              metrics=['acc'])\n",
    "                      # max pooling error for L2 regularization\n"
   ]
  },
  {
   "cell_type": "code",
   "execution_count": 16,
   "id": "596669ca",
   "metadata": {
    "execution": {
     "iopub.execute_input": "2022-09-25T13:31:18.331025Z",
     "iopub.status.busy": "2022-09-25T13:31:18.330655Z",
     "iopub.status.idle": "2022-09-25T13:31:18.340478Z",
     "shell.execute_reply": "2022-09-25T13:31:18.339667Z"
    },
    "papermill": {
     "duration": 0.263497,
     "end_time": "2022-09-25T13:31:18.342479",
     "exception": false,
     "start_time": "2022-09-25T13:31:18.078982",
     "status": "completed"
    },
    "tags": []
   },
   "outputs": [],
   "source": [
    "model0_regularized.compile(optimizer=ks.optimizers.Adam(),loss='categorical_crossentropy',metrics=['acc'])"
   ]
  },
  {
   "cell_type": "code",
   "execution_count": 17,
   "id": "2ee83b60",
   "metadata": {
    "execution": {
     "iopub.execute_input": "2022-09-25T13:31:18.885292Z",
     "iopub.status.busy": "2022-09-25T13:31:18.884845Z",
     "iopub.status.idle": "2022-09-25T13:37:10.653998Z",
     "shell.execute_reply": "2022-09-25T13:37:10.652953Z"
    },
    "papermill": {
     "duration": 352.022308,
     "end_time": "2022-09-25T13:37:10.656597",
     "exception": false,
     "start_time": "2022-09-25T13:31:18.634289",
     "status": "completed"
    },
    "tags": []
   },
   "outputs": [
    {
     "name": "stderr",
     "output_type": "stream",
     "text": [
      "/opt/conda/lib/python3.7/site-packages/keras/engine/training.py:1972: UserWarning: `Model.fit_generator` is deprecated and will be removed in a future version. Please use `Model.fit`, which supports generators.\n",
      "  warnings.warn('`Model.fit_generator` is deprecated and '\n"
     ]
    },
    {
     "name": "stdout",
     "output_type": "stream",
     "text": [
      "Epoch 1/100\n",
      "133/133 [==============================] - 4s 25ms/step - loss: 4.2331 - acc: 0.1158 - val_loss: 2.4167 - val_acc: 0.1053\n",
      "Epoch 2/100\n",
      "133/133 [==============================] - 3s 25ms/step - loss: 2.3832 - acc: 0.1151 - val_loss: 2.3589 - val_acc: 0.1053\n",
      "Epoch 3/100\n",
      "133/133 [==============================] - 3s 23ms/step - loss: 2.3438 - acc: 0.1151 - val_loss: 2.3318 - val_acc: 0.1053\n",
      "Epoch 4/100\n",
      "133/133 [==============================] - 4s 28ms/step - loss: 2.3232 - acc: 0.1151 - val_loss: 2.3170 - val_acc: 0.1053\n",
      "Epoch 5/100\n",
      "133/133 [==============================] - 3s 26ms/step - loss: 2.3121 - acc: 0.1151 - val_loss: 2.3092 - val_acc: 0.1053\n",
      "Epoch 6/100\n",
      "133/133 [==============================] - 3s 24ms/step - loss: 2.3062 - acc: 0.1151 - val_loss: 2.3051 - val_acc: 0.1053\n",
      "Epoch 7/100\n",
      "133/133 [==============================] - 3s 23ms/step - loss: 2.3032 - acc: 0.1151 - val_loss: 2.3031 - val_acc: 0.1053\n",
      "Epoch 8/100\n",
      "133/133 [==============================] - 3s 23ms/step - loss: 2.3017 - acc: 0.1151 - val_loss: 2.3021 - val_acc: 0.1053\n",
      "Epoch 9/100\n",
      "133/133 [==============================] - 4s 27ms/step - loss: 2.3010 - acc: 0.1151 - val_loss: 2.3017 - val_acc: 0.1053\n",
      "Epoch 10/100\n",
      "133/133 [==============================] - 3s 23ms/step - loss: 2.3006 - acc: 0.1151 - val_loss: 2.3014 - val_acc: 0.1053\n",
      "Epoch 11/100\n",
      "133/133 [==============================] - 3s 23ms/step - loss: 2.3005 - acc: 0.1151 - val_loss: 2.3014 - val_acc: 0.1053\n",
      "Epoch 12/100\n",
      "133/133 [==============================] - 3s 26ms/step - loss: 2.3004 - acc: 0.1151 - val_loss: 2.3014 - val_acc: 0.1053\n",
      "Epoch 13/100\n",
      "133/133 [==============================] - 3s 26ms/step - loss: 2.3003 - acc: 0.1151 - val_loss: 2.3013 - val_acc: 0.1053\n",
      "Epoch 14/100\n",
      "133/133 [==============================] - 3s 24ms/step - loss: 2.3004 - acc: 0.1151 - val_loss: 2.3015 - val_acc: 0.1053\n",
      "Epoch 15/100\n",
      "133/133 [==============================] - 3s 26ms/step - loss: 2.3004 - acc: 0.1151 - val_loss: 2.3014 - val_acc: 0.1053\n",
      "Epoch 16/100\n",
      "133/133 [==============================] - 3s 23ms/step - loss: 2.3004 - acc: 0.1151 - val_loss: 2.3014 - val_acc: 0.1053\n",
      "Epoch 17/100\n",
      "133/133 [==============================] - 3s 23ms/step - loss: 2.3004 - acc: 0.1151 - val_loss: 2.3014 - val_acc: 0.1053\n",
      "Epoch 18/100\n",
      "133/133 [==============================] - 4s 27ms/step - loss: 2.3003 - acc: 0.1151 - val_loss: 2.3014 - val_acc: 0.1053\n",
      "Epoch 19/100\n",
      "133/133 [==============================] - 3s 23ms/step - loss: 2.3003 - acc: 0.1151 - val_loss: 2.3014 - val_acc: 0.1053\n",
      "Epoch 20/100\n",
      "133/133 [==============================] - 3s 23ms/step - loss: 2.3004 - acc: 0.1151 - val_loss: 2.3015 - val_acc: 0.1053\n",
      "Epoch 21/100\n",
      "133/133 [==============================] - 3s 25ms/step - loss: 2.3001 - acc: 0.1151 - val_loss: 2.3014 - val_acc: 0.1053\n",
      "Epoch 22/100\n",
      "133/133 [==============================] - 4s 28ms/step - loss: 2.3001 - acc: 0.1151 - val_loss: 2.3014 - val_acc: 0.1053\n",
      "Epoch 23/100\n",
      "133/133 [==============================] - 3s 23ms/step - loss: 2.3001 - acc: 0.1151 - val_loss: 2.3014 - val_acc: 0.1053\n",
      "Epoch 24/100\n",
      "133/133 [==============================] - 3s 26ms/step - loss: 2.3001 - acc: 0.1151 - val_loss: 2.3014 - val_acc: 0.1053\n",
      "Epoch 25/100\n",
      "133/133 [==============================] - 3s 23ms/step - loss: 2.3001 - acc: 0.1151 - val_loss: 2.3014 - val_acc: 0.1053\n",
      "Epoch 26/100\n",
      "133/133 [==============================] - 3s 25ms/step - loss: 2.3001 - acc: 0.1151 - val_loss: 2.3014 - val_acc: 0.1053\n",
      "Epoch 27/100\n",
      "133/133 [==============================] - 3s 25ms/step - loss: 2.3001 - acc: 0.1151 - val_loss: 2.3014 - val_acc: 0.1053\n",
      "Epoch 28/100\n",
      "133/133 [==============================] - 3s 24ms/step - loss: 2.3001 - acc: 0.1151 - val_loss: 2.3014 - val_acc: 0.1053\n",
      "Epoch 29/100\n",
      "133/133 [==============================] - 3s 24ms/step - loss: 2.3001 - acc: 0.1151 - val_loss: 2.3014 - val_acc: 0.1053\n",
      "Epoch 30/100\n",
      "133/133 [==============================] - 3s 26ms/step - loss: 2.3001 - acc: 0.1151 - val_loss: 2.3014 - val_acc: 0.1053\n",
      "Epoch 31/100\n",
      "133/133 [==============================] - 4s 29ms/step - loss: 2.3001 - acc: 0.1151 - val_loss: 2.3014 - val_acc: 0.1053\n",
      "Epoch 32/100\n",
      "133/133 [==============================] - 3s 23ms/step - loss: 2.3001 - acc: 0.1151 - val_loss: 2.3014 - val_acc: 0.1053\n",
      "Epoch 33/100\n",
      "133/133 [==============================] - 3s 23ms/step - loss: 2.3001 - acc: 0.1151 - val_loss: 2.3014 - val_acc: 0.1053\n",
      "Epoch 34/100\n",
      "133/133 [==============================] - 3s 23ms/step - loss: 2.3001 - acc: 0.1151 - val_loss: 2.3014 - val_acc: 0.1053\n",
      "Epoch 35/100\n",
      "133/133 [==============================] - 3s 25ms/step - loss: 2.3001 - acc: 0.1151 - val_loss: 2.3014 - val_acc: 0.1053\n",
      "Epoch 36/100\n",
      "133/133 [==============================] - 3s 26ms/step - loss: 2.3001 - acc: 0.1151 - val_loss: 2.3014 - val_acc: 0.1053\n",
      "Epoch 37/100\n",
      "133/133 [==============================] - 3s 23ms/step - loss: 2.3001 - acc: 0.1151 - val_loss: 2.3014 - val_acc: 0.1053\n",
      "Epoch 38/100\n",
      "133/133 [==============================] - 3s 23ms/step - loss: 2.3001 - acc: 0.1151 - val_loss: 2.3014 - val_acc: 0.1053\n",
      "Epoch 39/100\n",
      "133/133 [==============================] - 3s 23ms/step - loss: 2.3001 - acc: 0.1151 - val_loss: 2.3014 - val_acc: 0.1053\n",
      "Epoch 40/100\n",
      "133/133 [==============================] - 4s 30ms/step - loss: 2.3001 - acc: 0.1151 - val_loss: 2.3014 - val_acc: 0.1053\n",
      "Epoch 41/100\n",
      "133/133 [==============================] - 3s 23ms/step - loss: 2.3001 - acc: 0.1151 - val_loss: 2.3014 - val_acc: 0.1053\n",
      "Epoch 42/100\n",
      "133/133 [==============================] - 3s 23ms/step - loss: 2.3001 - acc: 0.1151 - val_loss: 2.3014 - val_acc: 0.1053\n",
      "Epoch 43/100\n",
      "133/133 [==============================] - 3s 26ms/step - loss: 2.3001 - acc: 0.1151 - val_loss: 2.3014 - val_acc: 0.1053\n",
      "Epoch 44/100\n",
      "133/133 [==============================] - 3s 25ms/step - loss: 2.3001 - acc: 0.1151 - val_loss: 2.3014 - val_acc: 0.1053\n",
      "Epoch 45/100\n",
      "133/133 [==============================] - 3s 23ms/step - loss: 2.3001 - acc: 0.1151 - val_loss: 2.3014 - val_acc: 0.1053\n",
      "Epoch 46/100\n",
      "133/133 [==============================] - 3s 25ms/step - loss: 2.3001 - acc: 0.1151 - val_loss: 2.3014 - val_acc: 0.1053\n",
      "Epoch 47/100\n",
      "133/133 [==============================] - 3s 23ms/step - loss: 2.3001 - acc: 0.1151 - val_loss: 2.3014 - val_acc: 0.1053\n",
      "Epoch 48/100\n",
      "133/133 [==============================] - 3s 23ms/step - loss: 2.3001 - acc: 0.1151 - val_loss: 2.3014 - val_acc: 0.1053\n",
      "Epoch 49/100\n",
      "133/133 [==============================] - 3s 23ms/step - loss: 2.3001 - acc: 0.1151 - val_loss: 2.3014 - val_acc: 0.1053\n",
      "Epoch 50/100\n",
      "133/133 [==============================] - 4s 31ms/step - loss: 2.3001 - acc: 0.1151 - val_loss: 2.3014 - val_acc: 0.1053\n",
      "Epoch 51/100\n",
      "133/133 [==============================] - 3s 23ms/step - loss: 2.3001 - acc: 0.1151 - val_loss: 2.3014 - val_acc: 0.1053\n",
      "Epoch 52/100\n",
      "133/133 [==============================] - 3s 23ms/step - loss: 2.3001 - acc: 0.1151 - val_loss: 2.3014 - val_acc: 0.1053\n",
      "Epoch 53/100\n",
      "133/133 [==============================] - 4s 28ms/step - loss: 2.3001 - acc: 0.1151 - val_loss: 2.3014 - val_acc: 0.1053\n",
      "Epoch 54/100\n",
      "133/133 [==============================] - 3s 23ms/step - loss: 2.3001 - acc: 0.1151 - val_loss: 2.3014 - val_acc: 0.1053\n",
      "Epoch 55/100\n",
      "133/133 [==============================] - 3s 23ms/step - loss: 2.3001 - acc: 0.1151 - val_loss: 2.3014 - val_acc: 0.1053\n",
      "Epoch 56/100\n",
      "133/133 [==============================] - 3s 26ms/step - loss: 2.3001 - acc: 0.1151 - val_loss: 2.3014 - val_acc: 0.1053\n",
      "Epoch 57/100\n",
      "133/133 [==============================] - 3s 23ms/step - loss: 2.3001 - acc: 0.1151 - val_loss: 2.3014 - val_acc: 0.1053\n",
      "Epoch 58/100\n",
      "133/133 [==============================] - 3s 23ms/step - loss: 2.3001 - acc: 0.1151 - val_loss: 2.3014 - val_acc: 0.1053\n",
      "Epoch 59/100\n",
      "133/133 [==============================] - 4s 29ms/step - loss: 2.3001 - acc: 0.1151 - val_loss: 2.3014 - val_acc: 0.1053\n",
      "Epoch 60/100\n",
      "133/133 [==============================] - 3s 26ms/step - loss: 2.3001 - acc: 0.1151 - val_loss: 2.3014 - val_acc: 0.1053\n",
      "Epoch 61/100\n",
      "133/133 [==============================] - 3s 23ms/step - loss: 2.3001 - acc: 0.1151 - val_loss: 2.3014 - val_acc: 0.1053\n",
      "Epoch 62/100\n",
      "133/133 [==============================] - 3s 23ms/step - loss: 2.3001 - acc: 0.1151 - val_loss: 2.3014 - val_acc: 0.1053\n",
      "Epoch 63/100\n",
      "133/133 [==============================] - 3s 23ms/step - loss: 2.3001 - acc: 0.1151 - val_loss: 2.3014 - val_acc: 0.1053\n",
      "Epoch 64/100\n",
      "133/133 [==============================] - 3s 23ms/step - loss: 2.3001 - acc: 0.1151 - val_loss: 2.3014 - val_acc: 0.1053\n",
      "Epoch 65/100\n",
      "133/133 [==============================] - 3s 23ms/step - loss: 2.3001 - acc: 0.1151 - val_loss: 2.3014 - val_acc: 0.1053\n",
      "Epoch 66/100\n",
      "133/133 [==============================] - 3s 26ms/step - loss: 2.3001 - acc: 0.1151 - val_loss: 2.3014 - val_acc: 0.1053\n",
      "Epoch 67/100\n",
      "133/133 [==============================] - 3s 23ms/step - loss: 2.3001 - acc: 0.1151 - val_loss: 2.3014 - val_acc: 0.1053\n",
      "Epoch 68/100\n",
      "133/133 [==============================] - 4s 27ms/step - loss: 2.3001 - acc: 0.1151 - val_loss: 2.3014 - val_acc: 0.1053\n",
      "Epoch 69/100\n",
      "133/133 [==============================] - 3s 26ms/step - loss: 2.3001 - acc: 0.1151 - val_loss: 2.3014 - val_acc: 0.1053\n",
      "Epoch 70/100\n",
      "133/133 [==============================] - 3s 23ms/step - loss: 2.3001 - acc: 0.1151 - val_loss: 2.3014 - val_acc: 0.1053\n",
      "Epoch 71/100\n",
      "133/133 [==============================] - 3s 25ms/step - loss: 2.3001 - acc: 0.1151 - val_loss: 2.3014 - val_acc: 0.1053\n",
      "Epoch 72/100\n",
      "133/133 [==============================] - 4s 27ms/step - loss: 2.3001 - acc: 0.1151 - val_loss: 2.3014 - val_acc: 0.1053\n",
      "Epoch 73/100\n",
      "133/133 [==============================] - 3s 23ms/step - loss: 2.3001 - acc: 0.1151 - val_loss: 2.3014 - val_acc: 0.1053\n",
      "Epoch 74/100\n",
      "133/133 [==============================] - 3s 23ms/step - loss: 2.3001 - acc: 0.1151 - val_loss: 2.3014 - val_acc: 0.1053\n",
      "Epoch 75/100\n",
      "133/133 [==============================] - 3s 26ms/step - loss: 2.3001 - acc: 0.1151 - val_loss: 2.3014 - val_acc: 0.1053\n",
      "Epoch 76/100\n",
      "133/133 [==============================] - 3s 24ms/step - loss: 2.3001 - acc: 0.1151 - val_loss: 2.3014 - val_acc: 0.1053\n",
      "Epoch 77/100\n",
      "133/133 [==============================] - 4s 27ms/step - loss: 2.3001 - acc: 0.1151 - val_loss: 2.3014 - val_acc: 0.1053\n",
      "Epoch 78/100\n",
      "133/133 [==============================] - 3s 26ms/step - loss: 2.3001 - acc: 0.1151 - val_loss: 2.3014 - val_acc: 0.1053\n",
      "Epoch 79/100\n",
      "133/133 [==============================] - 3s 23ms/step - loss: 2.3001 - acc: 0.1151 - val_loss: 2.3014 - val_acc: 0.1053\n",
      "Epoch 80/100\n",
      "133/133 [==============================] - 4s 26ms/step - loss: 2.3001 - acc: 0.1151 - val_loss: 2.3014 - val_acc: 0.1053\n",
      "Epoch 81/100\n",
      "133/133 [==============================] - 3s 25ms/step - loss: 2.3001 - acc: 0.1151 - val_loss: 2.3014 - val_acc: 0.1053\n",
      "Epoch 82/100\n",
      "133/133 [==============================] - 3s 24ms/step - loss: 2.3001 - acc: 0.1151 - val_loss: 2.3014 - val_acc: 0.1053\n",
      "Epoch 83/100\n",
      "133/133 [==============================] - 3s 24ms/step - loss: 2.3001 - acc: 0.1151 - val_loss: 2.3014 - val_acc: 0.1053\n",
      "Epoch 84/100\n",
      "133/133 [==============================] - 3s 23ms/step - loss: 2.3001 - acc: 0.1151 - val_loss: 2.3014 - val_acc: 0.1053\n",
      "Epoch 85/100\n",
      "133/133 [==============================] - 3s 26ms/step - loss: 2.3001 - acc: 0.1151 - val_loss: 2.3014 - val_acc: 0.1053\n",
      "Epoch 86/100\n",
      "133/133 [==============================] - 4s 27ms/step - loss: 2.3001 - acc: 0.1151 - val_loss: 2.3014 - val_acc: 0.1053\n",
      "Epoch 87/100\n",
      "133/133 [==============================] - 3s 23ms/step - loss: 2.3001 - acc: 0.1151 - val_loss: 2.3014 - val_acc: 0.1053\n",
      "Epoch 88/100\n",
      "133/133 [==============================] - 3s 26ms/step - loss: 2.3001 - acc: 0.1151 - val_loss: 2.3014 - val_acc: 0.1053\n",
      "Epoch 89/100\n",
      "133/133 [==============================] - 4s 26ms/step - loss: 2.3001 - acc: 0.1151 - val_loss: 2.3014 - val_acc: 0.1053\n",
      "Epoch 90/100\n",
      "133/133 [==============================] - 3s 23ms/step - loss: 2.3001 - acc: 0.1151 - val_loss: 2.3014 - val_acc: 0.1053\n",
      "Epoch 91/100\n",
      "133/133 [==============================] - 3s 26ms/step - loss: 2.3001 - acc: 0.1151 - val_loss: 2.3014 - val_acc: 0.1053\n",
      "Epoch 92/100\n",
      "133/133 [==============================] - 3s 24ms/step - loss: 2.3001 - acc: 0.1151 - val_loss: 2.3014 - val_acc: 0.1053\n",
      "Epoch 93/100\n",
      "133/133 [==============================] - 3s 23ms/step - loss: 2.3001 - acc: 0.1151 - val_loss: 2.3014 - val_acc: 0.1053\n",
      "Epoch 94/100\n",
      "133/133 [==============================] - 3s 25ms/step - loss: 2.3001 - acc: 0.1151 - val_loss: 2.3014 - val_acc: 0.1053\n",
      "Epoch 95/100\n",
      "133/133 [==============================] - 3s 26ms/step - loss: 2.3001 - acc: 0.1151 - val_loss: 2.3014 - val_acc: 0.1053\n",
      "Epoch 96/100\n",
      "133/133 [==============================] - 3s 23ms/step - loss: 2.3001 - acc: 0.1151 - val_loss: 2.3014 - val_acc: 0.1053\n",
      "Epoch 97/100\n",
      "133/133 [==============================] - 4s 29ms/step - loss: 2.3001 - acc: 0.1151 - val_loss: 2.3014 - val_acc: 0.1053\n",
      "Epoch 98/100\n",
      "133/133 [==============================] - 3s 23ms/step - loss: 2.3001 - acc: 0.1151 - val_loss: 2.3014 - val_acc: 0.1053\n",
      "Epoch 99/100\n",
      "133/133 [==============================] - 3s 23ms/step - loss: 2.3001 - acc: 0.1151 - val_loss: 2.3014 - val_acc: 0.1053\n",
      "Epoch 100/100\n",
      "133/133 [==============================] - 3s 26ms/step - loss: 2.3001 - acc: 0.1151 - val_loss: 2.3014 - val_acc: 0.1053\n"
     ]
    }
   ],
   "source": [
    "callbacks = myCallback()\n",
    "batch_size=5\n",
    "FAST_RUN = False\n",
    "epochs=20 if FAST_RUN else 100\n",
    "history = model0_regularized.fit_generator(\n",
    "    train_generator, \n",
    "    epochs=epochs,\n",
    "    validation_data=validation_generator,\n",
    "    callbacks=[\n",
    "        ks.callbacks.ReduceLROnPlateau()\n",
    "    ]\n",
    ")\n"
   ]
  },
  {
   "cell_type": "code",
   "execution_count": 18,
   "id": "ec4050f3",
   "metadata": {
    "execution": {
     "iopub.execute_input": "2022-09-25T13:37:11.713698Z",
     "iopub.status.busy": "2022-09-25T13:37:11.713325Z",
     "iopub.status.idle": "2022-09-25T13:37:11.924559Z",
     "shell.execute_reply": "2022-09-25T13:37:11.923487Z"
    },
    "papermill": {
     "duration": 0.764739,
     "end_time": "2022-09-25T13:37:11.927064",
     "exception": false,
     "start_time": "2022-09-25T13:37:11.162325",
     "status": "completed"
    },
    "tags": []
   },
   "outputs": [
    {
     "data": {
      "image/png": "[encoded data removed]",
      "text/plain": [
       "<Figure size 432x288 with 1 Axes>"
      ]
     },
     "metadata": {
      "needs_background": "light"
     },
     "output_type": "display_data"
    }
   ],
   "source": [
    "loss_train = history.history['loss']\n",
    "loss_val = history.history['val_loss']\n",
    "epochs = range(1,101)\n",
    "plt.plot(epochs, loss_train, 'g', label='Training loss')\n",
    "plt.plot(epochs, loss_val, 'b', label='validation loss')\n",
    "plt.title('Training and Validation loss')\n",
    "plt.xlabel('Epochs')\n",
    "plt.ylabel('Loss')\n",
    "plt.legend()\n",
    "plt.show()"
   ]
  },
  {
   "cell_type": "code",
   "execution_count": 19,
   "id": "c3813371",
   "metadata": {
    "execution": {
     "iopub.execute_input": "2022-09-25T13:37:12.969770Z",
     "iopub.status.busy": "2022-09-25T13:37:12.969406Z",
     "iopub.status.idle": "2022-09-25T13:37:12.976105Z",
     "shell.execute_reply": "2022-09-25T13:37:12.975078Z"
    },
    "papermill": {
     "duration": 0.552424,
     "end_time": "2022-09-25T13:37:12.978068",
     "exception": false,
     "start_time": "2022-09-25T13:37:12.425644",
     "status": "completed"
    },
    "tags": []
   },
   "outputs": [
    {
     "data": {
      "text/plain": [
       "2.3013460636138916"
      ]
     },
     "execution_count": 19,
     "metadata": {},
     "output_type": "execute_result"
    }
   ],
   "source": [
    "min(loss_val)"
   ]
  },
  {
   "cell_type": "code",
   "execution_count": 20,
   "id": "f6e2250c",
   "metadata": {
    "execution": {
     "iopub.execute_input": "2022-09-25T13:37:13.972097Z",
     "iopub.status.busy": "2022-09-25T13:37:13.971729Z",
     "iopub.status.idle": "2022-09-25T13:37:13.977923Z",
     "shell.execute_reply": "2022-09-25T13:37:13.977024Z"
    },
    "papermill": {
     "duration": 0.506993,
     "end_time": "2022-09-25T13:37:13.979974",
     "exception": false,
     "start_time": "2022-09-25T13:37:13.472981",
     "status": "completed"
    },
    "tags": []
   },
   "outputs": [
    {
     "data": {
      "text/plain": [
       "2.3001186847686768"
      ]
     },
     "execution_count": 20,
     "metadata": {},
     "output_type": "execute_result"
    }
   ],
   "source": [
    "min(loss_train)"
   ]
  },
  {
   "cell_type": "markdown",
   "id": "92bf52a4",
   "metadata": {
    "papermill": {
     "duration": 0.498778,
     "end_time": "2022-09-25T13:37:15.025095",
     "exception": false,
     "start_time": "2022-09-25T13:37:14.526317",
     "status": "completed"
    },
    "tags": []
   },
   "source": [
    "As we can wsee the validation loss has decreased :)"
   ]
  },
  {
   "cell_type": "code",
   "execution_count": 21,
   "id": "979b9415",
   "metadata": {
    "execution": {
     "iopub.execute_input": "2022-09-25T13:37:16.062674Z",
     "iopub.status.busy": "2022-09-25T13:37:16.062316Z",
     "iopub.status.idle": "2022-09-25T13:37:16.269770Z",
     "shell.execute_reply": "2022-09-25T13:37:16.268794Z"
    },
    "papermill": {
     "duration": 0.710564,
     "end_time": "2022-09-25T13:37:16.271851",
     "exception": false,
     "start_time": "2022-09-25T13:37:15.561287",
     "status": "completed"
    },
    "tags": []
   },
   "outputs": [
    {
     "data": {
      "image/png": "[encoded data removed]",
      "text/plain": [
       "<Figure size 432x288 with 1 Axes>"
      ]
     },
     "metadata": {
      "needs_background": "light"
     },
     "output_type": "display_data"
    }
   ],
   "source": [
    "loss_train = history.history['loss']\n",
    "epochs = range(1,101)\n",
    "plt.plot(epochs, loss_train, 'g', label='Training loss')\n",
    "plt.title('Training loss')\n",
    "plt.xlabel('Epochs')\n",
    "plt.ylabel('Loss')\n",
    "plt.legend()\n",
    "plt.show()"
   ]
  },
  {
   "cell_type": "markdown",
   "id": "edde9018",
   "metadata": {
    "papermill": {
     "duration": 0.570354,
     "end_time": "2022-09-25T13:37:17.341549",
     "exception": false,
     "start_time": "2022-09-25T13:37:16.771195",
     "status": "completed"
    },
    "tags": []
   },
   "source": [
    "# L2 Regularization (for Machine learning)"
   ]
  },
  {
   "cell_type": "markdown",
   "id": "158d3e04",
   "metadata": {
    "papermill": {
     "duration": 0.685752,
     "end_time": "2022-09-25T13:37:18.523082",
     "exception": false,
     "start_time": "2022-09-25T13:37:17.837330",
     "status": "completed"
    },
    "tags": []
   },
   "source": [
    "A regression model that uses **L1 regularization** technique is called **Lasso Regression** and model which uses **L2** is called **Ridge Regression.**  \n",
    "The key difference between these two is the penalty term.\n",
    "Traditional methods like cross-validation, stepwise regression to handle overfitting and perform feature selection work well with a small set of features but these techniques are a great alternative when we are dealing with **a large set of features.**\n",
    "\n",
    "\n"
   ]
  },
  {
   "cell_type": "markdown",
   "id": "9b374954",
   "metadata": {
    "papermill": {
     "duration": 0.495752,
     "end_time": "2022-09-25T13:37:19.641487",
     "exception": false,
     "start_time": "2022-09-25T13:37:19.145735",
     "status": "completed"
    },
    "tags": []
   },
   "source": [
    "\n",
    "If you have studied the concept of regularization in machine learning, you will have a fair idea that regularization penalizes the coefficients. In deep learning, it actually penalizes the weight matrices of the nodes.\n",
    "\n",
    "Assume that our regularization coefficient is so high that some of the weight matrices are nearly equal to zero. This will result in a much simpler linear network and slight underfitting of the training data.\n",
    "\n",
    "Such a large value of the regularization coefficient is not that useful. We need to optimize the value of regularization coefficient in order to obtain a well-fitted model as shown in the image below.  \n",
    "\n",
    "**Variables standardization** is the initial procedure in ridge regression. Both the independent and dependent variables require standardization through subtraction of their averages and a division of the result with the standard deviations. It is common practice to annotate in a formula whether the variables therein are standardized or not."
   ]
  },
  {
   "cell_type": "markdown",
   "id": "8e42e411",
   "metadata": {
    "papermill": {
     "duration": 0.785949,
     "end_time": "2022-09-25T13:37:21.113746",
     "exception": false,
     "start_time": "2022-09-25T13:37:20.327797",
     "status": "completed"
    },
    "tags": []
   },
   "source": [
    "regularizing lamba part is in progress ..."
   ]
  },
  {
   "cell_type": "markdown",
   "id": "8843c4d1",
   "metadata": {
    "papermill": {
     "duration": 0.50129,
     "end_time": "2022-09-25T13:37:22.210593",
     "exception": false,
     "start_time": "2022-09-25T13:37:21.709303",
     "status": "completed"
    },
    "tags": []
   },
   "source": [
    "To find optimum alpha for Ridge Regularization we can be applying GridSearchCV"
   ]
  }
 ],
 "metadata": {
  "kernelspec": {
   "display_name": "Python 3",
   "language": "python",
   "name": "python3"
  },
  "language_info": {
   "codemirror_mode": {
    "name": "ipython",
    "version": 3
   },
   "file_extension": ".py",
   "mimetype": "text/x-python",
   "name": "python",
   "nbconvert_exporter": "python",
   "pygments_lexer": "ipython3",
   "version": "3.7.12"
  },
  "papermill": {
   "default_parameters": {},
   "duration": 1217.081916,
   "end_time": "2022-09-25T13:37:25.780793",
   "environment_variables": {},
   "exception": null,
   "input_path": "__notebook__.ipynb",
   "output_path": "__notebook__.ipynb",
   "parameters": {},
   "start_time": "2022-09-25T13:17:08.698877",
   "version": "2.3.4"
  }
 },
 "nbformat": 4,
 "nbformat_minor": 5
}
